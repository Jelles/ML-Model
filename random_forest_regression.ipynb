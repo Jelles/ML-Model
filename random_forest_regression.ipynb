{
 "cells": [
  {
   "cell_type": "markdown",
   "metadata": {},
   "source": [
    "# Data Preperation"
   ]
  },
  {
   "cell_type": "code",
<<<<<<< HEAD
   "execution_count": 1,
=======
   "execution_count": 7,
>>>>>>> origin/master
   "metadata": {},
   "outputs": [
    {
     "data": {
      "application/vnd.microsoft.datawrangler.viewer.v0+json": {
       "columns": [
        {
         "name": "index",
         "rawType": "int64",
         "type": "integer"
        },
        {
         "name": "age",
         "rawType": "float64",
         "type": "float"
        },
        {
         "name": "sleep_duration",
         "rawType": "float64",
         "type": "float"
        },
        {
         "name": "sleep_efficiency",
         "rawType": "float64",
         "type": "float"
        },
        {
         "name": "rem_sleep_percentage",
         "rawType": "float64",
         "type": "float"
        },
        {
         "name": "awakenings",
         "rawType": "float64",
         "type": "float"
        },
        {
         "name": "caffeine_consumption",
         "rawType": "float64",
         "type": "float"
        },
        {
         "name": "alcohol_consumption",
         "rawType": "float64",
         "type": "float"
        },
        {
         "name": "exercise_frequency",
         "rawType": "float64",
         "type": "float"
        },
        {
         "name": "gender_male",
         "rawType": "float64",
         "type": "float"
        },
        {
         "name": "smoking_status_yes",
         "rawType": "float64",
         "type": "float"
        }
       ],
       "conversionMethod": "pd.DataFrame",
       "ref": "f79aaa6b-8013-44f3-a466-4212f02a88a0",
       "rows": [
        [
         "0",
         "1.878341706826717",
         "-1.6931569729472327",
         "0.6742603381614031",
         "-1.310325289887856",
         "-1.2387660153826947",
         "-0.806697898234991",
         "-0.7360945389865761",
         "0.8528527543282607",
         "-1.008889063701824",
         "1.3910661145556436"
        ],
        [
         "1",
         "2.182346881470232",
         "-0.5379766683854983",
         "-0.9543150329041763",
         "-1.026400538675339",
         "1.0256074062477314",
         "-0.806697898234991",
         "1.1456724342203517",
         "0.8528527543282607",
         "0.9911892555667041",
         "1.3910661145556436"
        ],
        [
         "2",
         "-0.021690634695250854",
         "0.6172036361762362",
         "0.7482864913916567",
         "-0.7424757874628217",
         "-0.4839748748392193",
         "-0.806697898234991",
         "-0.7360945389865761",
         "0.8528527543282607",
         "-1.008889063701824",
         "-0.7188730927569432"
        ],
        [
         "3",
         "-0.021690634695250854",
         "-1.6931569729472327",
         "-2.064707331357981",
         "0.10929846617472969",
         "1.0256074062477314",
         "0.8985496391231335",
         "2.400183749691637",
         "-0.5585473511648905",
         "-1.008889063701824",
         "1.3910661145556436"
        ],
        [
         "4",
         "1.2703313575396873",
         "0.6172036361762362",
         "-0.21405350060164027",
         "1.2449974710247982",
         "1.0256074062477314",
         "-0.806697898234991",
         "1.1456724342203517",
         "0.8528527543282607",
         "0.9911892555667041",
         "-0.7188730927569432"
        ],
        [
         "5",
         "-0.3256958093387657",
         "0.039613483895368985",
         "0.8223126446219104",
         "0.10929846617472969",
         "-1.2387660153826947",
         "-1.2116512503426156e-16",
         "-0.7360945389865761",
         "-0.5585473511648905",
         "-1.008889063701824",
         "-0.7188730927569432"
        ],
        [
         "6",
         "-1.009707452286674",
         "-1.6931569729472327",
         "-1.8426288716672197",
         "1.5289222222373153",
         "0.27081626570425604",
         "0.8985496391231335",
         "-0.7360945389865761",
         "-0.5585473511648905",
         "-1.008889063701824",
         "1.3910661145556436"
        ],
        [
         "7",
         "0.9663261828961723",
         "2.9275642452997053",
         "0.8223126446219104",
         "1.5289222222373153",
         "-1.2387660153826947",
         "0.8985496391231335",
         "-0.7360945389865761",
         "0.8528527543282607",
         "0.9911892555667041",
         "1.3910661145556436"
        ],
        [
         "8",
         "0.05431065896562785",
         "-1.6931569729472327",
         "0.00802495908912076",
         "1.5289222222373153",
         "1.0256074062477314",
         "0.8985496391231335",
         "-0.7360945389865761",
         "-0.5585473511648905",
         "-1.008889063701824",
         "-0.7188730927569432"
        ],
        [
         "9",
         "-2.2257281508607334",
         "1.7723839407379707",
         "-1.768602718436966",
         "-1.310325289887856",
         "1.7803985467912065",
         "-0.806697898234991",
         "-0.7360945389865761",
         "-1.2642474039114662",
         "-1.008889063701824",
         "-0.7188730927569432"
        ],
        [
         "10",
         "0.7383223019135362",
         "0.6172036361762362",
         "0.9703649510824178",
         "0.10929846617472969",
         "-0.4839748748392193",
         "0.8985496391231335",
         "-0.7360945389865761",
         "0.8528527543282607",
         "0.9911892555667041",
         "1.3910661145556436"
        ],
        [
         "11",
         "1.1183287702179299",
         "0.039613483895368985",
         "1.0443911043126715",
         "-1.310325289887856",
         "-1.2387660153826947",
         "-0.806697898234991",
         "-0.7360945389865761",
         "0.8528527543282607",
         "0.9911892555667041",
         "-0.7188730927569432"
        ],
        [
         "12",
         "-0.781703571304038",
         "1.7723839407379707",
         "1.0443911043126715",
         "0.3932232173872468",
         "-1.2387660153826947",
         "0.8985496391231335",
         "-0.7360945389865761",
         "-0.5585473511648905",
         "-1.008889063701824",
         "-0.7188730927569432"
        ],
        [
         "13",
         "-0.9337061586257953",
         "1.1947937884571034",
         "-1.1023673393646836",
         "1.5289222222373153",
         "1.7803985467912065",
         "-0.806697898234991",
         "-0.7360945389865761",
         "0.8528527543282607",
         "0.9911892555667041",
         "-0.7188730927569432"
        ],
        [
         "14",
         "-0.3256958093387657",
         "1.1947937884571034",
         "-1.8426288716672197",
         "-0.7424757874628217",
         "0.27081626570425604",
         "0.04592587044407119",
         "-0.10883888125093348",
         "-1.2642474039114662",
         "-1.008889063701824",
         "1.3910661145556436"
        ]
       ],
       "shape": {
        "columns": 10,
        "rows": 15
       }
      },
      "text/html": [
       "<div>\n",
       "<style scoped>\n",
       "    .dataframe tbody tr th:only-of-type {\n",
       "        vertical-align: middle;\n",
       "    }\n",
       "\n",
       "    .dataframe tbody tr th {\n",
       "        vertical-align: top;\n",
       "    }\n",
       "\n",
       "    .dataframe thead th {\n",
       "        text-align: right;\n",
       "    }\n",
       "</style>\n",
       "<table border=\"1\" class=\"dataframe\">\n",
       "  <thead>\n",
       "    <tr style=\"text-align: right;\">\n",
       "      <th></th>\n",
       "      <th>age</th>\n",
       "      <th>sleep_duration</th>\n",
       "      <th>sleep_efficiency</th>\n",
       "      <th>rem_sleep_percentage</th>\n",
       "      <th>awakenings</th>\n",
       "      <th>caffeine_consumption</th>\n",
       "      <th>alcohol_consumption</th>\n",
       "      <th>exercise_frequency</th>\n",
       "      <th>gender_male</th>\n",
       "      <th>smoking_status_yes</th>\n",
       "    </tr>\n",
       "  </thead>\n",
       "  <tbody>\n",
       "    <tr>\n",
       "      <th>0</th>\n",
       "      <td>1.878342</td>\n",
       "      <td>-1.693157</td>\n",
       "      <td>0.674260</td>\n",
       "      <td>-1.310325</td>\n",
       "      <td>-1.238766</td>\n",
       "      <td>-8.066979e-01</td>\n",
       "      <td>-0.736095</td>\n",
       "      <td>0.852853</td>\n",
       "      <td>-1.008889</td>\n",
       "      <td>1.391066</td>\n",
       "    </tr>\n",
       "    <tr>\n",
       "      <th>1</th>\n",
       "      <td>2.182347</td>\n",
       "      <td>-0.537977</td>\n",
       "      <td>-0.954315</td>\n",
       "      <td>-1.026401</td>\n",
       "      <td>1.025607</td>\n",
       "      <td>-8.066979e-01</td>\n",
       "      <td>1.145672</td>\n",
       "      <td>0.852853</td>\n",
       "      <td>0.991189</td>\n",
       "      <td>1.391066</td>\n",
       "    </tr>\n",
       "    <tr>\n",
       "      <th>2</th>\n",
       "      <td>-0.021691</td>\n",
       "      <td>0.617204</td>\n",
       "      <td>0.748286</td>\n",
       "      <td>-0.742476</td>\n",
       "      <td>-0.483975</td>\n",
       "      <td>-8.066979e-01</td>\n",
       "      <td>-0.736095</td>\n",
       "      <td>0.852853</td>\n",
       "      <td>-1.008889</td>\n",
       "      <td>-0.718873</td>\n",
       "    </tr>\n",
       "    <tr>\n",
       "      <th>3</th>\n",
       "      <td>-0.021691</td>\n",
       "      <td>-1.693157</td>\n",
       "      <td>-2.064707</td>\n",
       "      <td>0.109298</td>\n",
       "      <td>1.025607</td>\n",
       "      <td>8.985496e-01</td>\n",
       "      <td>2.400184</td>\n",
       "      <td>-0.558547</td>\n",
       "      <td>-1.008889</td>\n",
       "      <td>1.391066</td>\n",
       "    </tr>\n",
       "    <tr>\n",
       "      <th>4</th>\n",
       "      <td>1.270331</td>\n",
       "      <td>0.617204</td>\n",
       "      <td>-0.214054</td>\n",
       "      <td>1.244997</td>\n",
       "      <td>1.025607</td>\n",
       "      <td>-8.066979e-01</td>\n",
       "      <td>1.145672</td>\n",
       "      <td>0.852853</td>\n",
       "      <td>0.991189</td>\n",
       "      <td>-0.718873</td>\n",
       "    </tr>\n",
       "    <tr>\n",
       "      <th>5</th>\n",
       "      <td>-0.325696</td>\n",
       "      <td>0.039613</td>\n",
       "      <td>0.822313</td>\n",
       "      <td>0.109298</td>\n",
       "      <td>-1.238766</td>\n",
       "      <td>-1.211651e-16</td>\n",
       "      <td>-0.736095</td>\n",
       "      <td>-0.558547</td>\n",
       "      <td>-1.008889</td>\n",
       "      <td>-0.718873</td>\n",
       "    </tr>\n",
       "    <tr>\n",
       "      <th>6</th>\n",
       "      <td>-1.009707</td>\n",
       "      <td>-1.693157</td>\n",
       "      <td>-1.842629</td>\n",
       "      <td>1.528922</td>\n",
       "      <td>0.270816</td>\n",
       "      <td>8.985496e-01</td>\n",
       "      <td>-0.736095</td>\n",
       "      <td>-0.558547</td>\n",
       "      <td>-1.008889</td>\n",
       "      <td>1.391066</td>\n",
       "    </tr>\n",
       "    <tr>\n",
       "      <th>7</th>\n",
       "      <td>0.966326</td>\n",
       "      <td>2.927564</td>\n",
       "      <td>0.822313</td>\n",
       "      <td>1.528922</td>\n",
       "      <td>-1.238766</td>\n",
       "      <td>8.985496e-01</td>\n",
       "      <td>-0.736095</td>\n",
       "      <td>0.852853</td>\n",
       "      <td>0.991189</td>\n",
       "      <td>1.391066</td>\n",
       "    </tr>\n",
       "    <tr>\n",
       "      <th>8</th>\n",
       "      <td>0.054311</td>\n",
       "      <td>-1.693157</td>\n",
       "      <td>0.008025</td>\n",
       "      <td>1.528922</td>\n",
       "      <td>1.025607</td>\n",
       "      <td>8.985496e-01</td>\n",
       "      <td>-0.736095</td>\n",
       "      <td>-0.558547</td>\n",
       "      <td>-1.008889</td>\n",
       "      <td>-0.718873</td>\n",
       "    </tr>\n",
       "    <tr>\n",
       "      <th>9</th>\n",
       "      <td>-2.225728</td>\n",
       "      <td>1.772384</td>\n",
       "      <td>-1.768603</td>\n",
       "      <td>-1.310325</td>\n",
       "      <td>1.780399</td>\n",
       "      <td>-8.066979e-01</td>\n",
       "      <td>-0.736095</td>\n",
       "      <td>-1.264247</td>\n",
       "      <td>-1.008889</td>\n",
       "      <td>-0.718873</td>\n",
       "    </tr>\n",
       "    <tr>\n",
       "      <th>10</th>\n",
       "      <td>0.738322</td>\n",
       "      <td>0.617204</td>\n",
       "      <td>0.970365</td>\n",
       "      <td>0.109298</td>\n",
       "      <td>-0.483975</td>\n",
       "      <td>8.985496e-01</td>\n",
       "      <td>-0.736095</td>\n",
       "      <td>0.852853</td>\n",
       "      <td>0.991189</td>\n",
       "      <td>1.391066</td>\n",
       "    </tr>\n",
       "    <tr>\n",
       "      <th>11</th>\n",
       "      <td>1.118329</td>\n",
       "      <td>0.039613</td>\n",
       "      <td>1.044391</td>\n",
       "      <td>-1.310325</td>\n",
       "      <td>-1.238766</td>\n",
       "      <td>-8.066979e-01</td>\n",
       "      <td>-0.736095</td>\n",
       "      <td>0.852853</td>\n",
       "      <td>0.991189</td>\n",
       "      <td>-0.718873</td>\n",
       "    </tr>\n",
       "    <tr>\n",
       "      <th>12</th>\n",
       "      <td>-0.781704</td>\n",
       "      <td>1.772384</td>\n",
       "      <td>1.044391</td>\n",
       "      <td>0.393223</td>\n",
       "      <td>-1.238766</td>\n",
       "      <td>8.985496e-01</td>\n",
       "      <td>-0.736095</td>\n",
       "      <td>-0.558547</td>\n",
       "      <td>-1.008889</td>\n",
       "      <td>-0.718873</td>\n",
       "    </tr>\n",
       "    <tr>\n",
       "      <th>13</th>\n",
       "      <td>-0.933706</td>\n",
       "      <td>1.194794</td>\n",
       "      <td>-1.102367</td>\n",
       "      <td>1.528922</td>\n",
       "      <td>1.780399</td>\n",
       "      <td>-8.066979e-01</td>\n",
       "      <td>-0.736095</td>\n",
       "      <td>0.852853</td>\n",
       "      <td>0.991189</td>\n",
       "      <td>-0.718873</td>\n",
       "    </tr>\n",
       "    <tr>\n",
       "      <th>14</th>\n",
       "      <td>-0.325696</td>\n",
       "      <td>1.194794</td>\n",
       "      <td>-1.842629</td>\n",
       "      <td>-0.742476</td>\n",
       "      <td>0.270816</td>\n",
       "      <td>4.592587e-02</td>\n",
       "      <td>-0.108839</td>\n",
       "      <td>-1.264247</td>\n",
       "      <td>-1.008889</td>\n",
       "      <td>1.391066</td>\n",
       "    </tr>\n",
       "  </tbody>\n",
       "</table>\n",
       "</div>"
      ],
      "text/plain": [
       "         age  sleep_duration  sleep_efficiency  rem_sleep_percentage  \\\n",
       "0   1.878342       -1.693157          0.674260             -1.310325   \n",
       "1   2.182347       -0.537977         -0.954315             -1.026401   \n",
       "2  -0.021691        0.617204          0.748286             -0.742476   \n",
       "3  -0.021691       -1.693157         -2.064707              0.109298   \n",
       "4   1.270331        0.617204         -0.214054              1.244997   \n",
       "5  -0.325696        0.039613          0.822313              0.109298   \n",
       "6  -1.009707       -1.693157         -1.842629              1.528922   \n",
       "7   0.966326        2.927564          0.822313              1.528922   \n",
       "8   0.054311       -1.693157          0.008025              1.528922   \n",
       "9  -2.225728        1.772384         -1.768603             -1.310325   \n",
       "10  0.738322        0.617204          0.970365              0.109298   \n",
       "11  1.118329        0.039613          1.044391             -1.310325   \n",
       "12 -0.781704        1.772384          1.044391              0.393223   \n",
       "13 -0.933706        1.194794         -1.102367              1.528922   \n",
       "14 -0.325696        1.194794         -1.842629             -0.742476   \n",
       "\n",
       "    awakenings  caffeine_consumption  alcohol_consumption  exercise_frequency  \\\n",
       "0    -1.238766         -8.066979e-01            -0.736095            0.852853   \n",
       "1     1.025607         -8.066979e-01             1.145672            0.852853   \n",
       "2    -0.483975         -8.066979e-01            -0.736095            0.852853   \n",
       "3     1.025607          8.985496e-01             2.400184           -0.558547   \n",
       "4     1.025607         -8.066979e-01             1.145672            0.852853   \n",
       "5    -1.238766         -1.211651e-16            -0.736095           -0.558547   \n",
       "6     0.270816          8.985496e-01            -0.736095           -0.558547   \n",
       "7    -1.238766          8.985496e-01            -0.736095            0.852853   \n",
       "8     1.025607          8.985496e-01            -0.736095           -0.558547   \n",
       "9     1.780399         -8.066979e-01            -0.736095           -1.264247   \n",
       "10   -0.483975          8.985496e-01            -0.736095            0.852853   \n",
       "11   -1.238766         -8.066979e-01            -0.736095            0.852853   \n",
       "12   -1.238766          8.985496e-01            -0.736095           -0.558547   \n",
       "13    1.780399         -8.066979e-01            -0.736095            0.852853   \n",
       "14    0.270816          4.592587e-02            -0.108839           -1.264247   \n",
       "\n",
       "    gender_male  smoking_status_yes  \n",
       "0     -1.008889            1.391066  \n",
       "1      0.991189            1.391066  \n",
       "2     -1.008889           -0.718873  \n",
       "3     -1.008889            1.391066  \n",
       "4      0.991189           -0.718873  \n",
       "5     -1.008889           -0.718873  \n",
       "6     -1.008889            1.391066  \n",
       "7      0.991189            1.391066  \n",
       "8     -1.008889           -0.718873  \n",
       "9     -1.008889           -0.718873  \n",
       "10     0.991189            1.391066  \n",
       "11     0.991189           -0.718873  \n",
       "12    -1.008889           -0.718873  \n",
       "13     0.991189           -0.718873  \n",
       "14    -1.008889            1.391066  "
      ]
     },
<<<<<<< HEAD
     "execution_count": 1,
=======
     "execution_count": 7,
>>>>>>> origin/master
     "metadata": {},
     "output_type": "execute_result"
    }
   ],
   "source": [
    "import pandas as pd\n",
    "import numpy as np\n",
    "import matplotlib.pyplot as plt\n",
    "import seaborn as sns\n",
    "from sklearn.model_selection import train_test_split, GridSearchCV\n",
    "from sklearn.ensemble import RandomForestRegressor\n",
    "from sklearn.metrics import mean_absolute_error, mean_squared_error, r2_score\n",
    "from sklearn.preprocessing import StandardScaler\n",
    "\n",
    "# Load the data\n",
    "data = pd.read_csv('data/Sleep_Efficiency.csv')\n",
    "\n",
    "# Rename all columns to lower case and replace spaces with underscores\n",
    "data.columns = data.columns.str.lower().str.replace(' ', '_')\n",
    "\n",
    "# Drop \"id\", \"wakeup_time\", \"bedtime\"\n",
    "data = data.drop(columns=[\"id\", \"wakeup_time\", \"bedtime\", \"deep_sleep_percentage\", \"light_sleep_percentage\"])\n",
    "\n",
    "# Hot encoding for \"Gender\", \"Smoking Status\"\n",
    "data = pd.get_dummies(data, columns=[\"gender\", \"smoking_status\"], drop_first=True)\n",
    "data.columns = data.columns.str.lower().str.replace(' ', '_')\n",
    "\n",
    "# Data cleaning fill the missing values with the mean of the column\n",
    "data = data.fillna(data.mean())\n",
    "\n",
    "# Scale the data\n",
    "scaler = StandardScaler()\n",
    "data = pd.DataFrame(scaler.fit_transform(data), columns=data.columns)\n",
    "\n",
    "# Define the features (X) and target (y)\n",
    "X = data.drop(columns=['sleep_efficiency'])\n",
    "y = data['sleep_efficiency']\n",
    "\n",
    "# Split the data into training and testing sets\n",
    "X_train, X_test, y_train, y_test = train_test_split(X, y, test_size=0.3, random_state=42)\n",
    "\n",
    "data.head(n=15)\n"
   ]
  },
  {
   "cell_type": "markdown",
   "metadata": {},
   "source": [
    "# Random Forest Regression"
   ]
  },
  {
   "cell_type": "code",
<<<<<<< HEAD
   "execution_count": 2,
=======
   "execution_count": 8,
>>>>>>> origin/master
   "metadata": {},
   "outputs": [
    {
     "name": "stdout",
     "output_type": "stream",
     "text": [
      "MAE: 0.43615012001374953 \n",
      "MSE: 0.3305629530700564 \n",
      "R2: 0.7032956641151866\n"
     ]
    }
   ],
   "source": [
    "from sklearn.metrics import accuracy_score\n",
    "\n",
    "# Train a Random Forest Regressor\n",
    "model = RandomForestRegressor(n_estimators=100, random_state=42)\n",
    "model.fit(X_train, y_train)\n",
    "\n",
    "y_pred = model.predict(X_test)\n",
    "mae = mean_absolute_error(y_test, y_pred)\n",
    "mse = mean_squared_error(y_test, y_pred)\n",
    "r2 = r2_score(y_test, y_pred)\n",
    "print('MAE:', mae, '\\nMSE:', mse, '\\nR2:', r2)"
   ]
  },
  {
   "cell_type": "markdown",
   "metadata": {},
   "source": [
    "## Using GridSearchCV to Improve Model Performance"
   ]
  },
  {
   "cell_type": "code",
<<<<<<< HEAD
   "execution_count": 3,
=======
   "execution_count": 9,
>>>>>>> origin/master
   "metadata": {},
   "outputs": [
    {
     "name": "stdout",
     "output_type": "stream",
     "text": [
      "Fitting 5 folds for each of 48 candidates, totalling 240 fits\n",
      "Best parameters: {'max_depth': 10, 'max_features': 'sqrt', 'min_samples_leaf': 1, 'min_samples_split': 2, 'n_estimators': 100} \n",
      "Best score: -0.376776758987786 \n",
      "MAE: 0.4438745182257595 \n",
      "MSE: 0.31636973603139573 \n",
      "R2: 0.7160351105547045\n"
     ]
    }
   ],
   "source": [
    "\n",
    "# Tune the hyperparameters for better model\n",
    "param_grid = {\n",
    "    'n_estimators': [50, 100],\n",
    "    'max_depth': [10, 20, None],\n",
    "    'min_samples_split': [2, 5],\n",
    "    'min_samples_leaf': [1, 2],\n",
    "    'max_features': ['sqrt', 'log2']\n",
    "}\n",
    "\n",
    "model_cv = GridSearchCV(estimator=model, param_grid=param_grid, cv=5, scoring='neg_mean_squared_error', n_jobs=-1, verbose=2)\n",
    "model_cv.fit(X_train, y_train)\n",
    "y_pred = model_cv.predict(X_test)\n",
    "\n",
    "mae = mean_absolute_error(y_pred=y_pred, y_true=y_test)\n",
    "mse = mean_squared_error(y_pred=y_pred, y_true=y_test)\n",
    "r2 = r2_score(y_pred=y_pred, y_true=y_test)\n",
    "\n",
    "print('Best parameters:', model_cv.best_params_, '\\nBest score:', model_cv.best_score_, '\\nMAE:', mae, '\\nMSE:', mse, '\\nR2:', r2)\n"
   ]
  },
  {
   "cell_type": "markdown",
   "metadata": {},
   "source": [
    "# Features importances"
   ]
  },
  {
   "cell_type": "code",
<<<<<<< HEAD
   "execution_count": 4,
=======
   "execution_count": 10,
>>>>>>> origin/master
   "metadata": {},
   "outputs": [
    {
     "data": {
<<<<<<< HEAD
      "image/png": "iVBORw0KGgoAAAANSUhEUgAABjUAAAJOCAYAAAD/KYUYAAAAOnRFWHRTb2Z0d2FyZQBNYXRwbG90bGliIHZlcnNpb24zLjEwLjEsIGh0dHBzOi8vbWF0cGxvdGxpYi5vcmcvc2/+5QAAAAlwSFlzAAAPYQAAD2EBqD+naQAAiKlJREFUeJzt3QV4XMX6OOApLS2F0hYtXtyhuEtxd7fi3Iu7/fAWKRSHixYocNGLXVyKuxQr7u5aoGi7/+eb/7N7kzRpk5A0Ocn7Ps/S7Nmz58yZswnz7Xwz06FUKpUSAAAAAABAKzdBSxcAAAAAAACgPnRqAAAAAAAAhaBTAwAAAAAAKASdGgAAAAAAQCHo1AAAAAAAAApBpwYAAAAAAFAIOjUAAAAAAIBC0KkBAAAAAAAUgk4NAAAAAACgEHRqAADj1fXXX58mn3zy9PPPPzfbOTp06JCOPfbYRr135plnTjvssENqTnH8OE/Zt99+myaZZJJ05513Nut5AQCgLRgfMUVbJRahLdCpAVAQQ4YMyV/U1vY47LDDmuWcTzzxRP5i+IcffkittT6ee+65VFTnnXdevo72ZNSoUemYY45Je++9d+rWrVu11/7888909tlnp8UXXzxNOumk+fX4ObbFa23ZFFNMkXbZZZd01FFHtXRRAIA2TExRnZiibcUU8UX9uuuu26JlKyKxCEXUqaULAEDD9O/fP80yyyzVts0///zNFoAcd9xxOZOjZ8+ezXKO9iwCkCmnnLLZRwW0Jrfddlt6880302677VZt+y+//JLWWWed9PDDD+dAJOpkggkmSHfffXfad99900033ZTuuOOOnEFUH7/++mvq1KlxzZwoX5x7fPvnP/+ZO3AeeOCBtPLKK4/38wMA7YeYou0QU9AUxCIUjU4NgIJZa6210mKLLZaKLL7Aru+X023RyJEj08QTT5zao8suuywtu+yyafrpp6+2/YADDsgdGuecc07aa6+9Ktt333339K9//StvO+igg9L5559f57FHjx6d/vjjjzTRRBPlR2N16dIltYR55pknf5kQmXYCCQCgOYkpik9MMWZM0doU6TMqFqFoTD8F0Mbcddddafnll8+Np5jCJ7LfX3311Wr7vPzyyzmTZ9ZZZ81f/k4zzTRpp512ynNplsUQ8YMPPjj/HFlc5WHpH3zwQX7Ez7UNc665lkH8HNtee+21tPXWW6fJJpssLbfccpXX//3vf6dFF100de3aNc+JuuWWW6aPP/64Udce1xTDjz/66KOc7R8/R0M3vhQPw4cPzw20qJvevXunq6++utbh54888kj6xz/+kYfhdu/ePfXr1y99//33tWZFzTfffPlL8Ommmy7tueeeYwyr79u3b24cDhs2LK2wwgo58Pi///u/PDQ67kt8kV+u29g3fPfdd/kL/AUWWCBfQ5QhAs+XXnqp2rEfeuih/L6YT/aEE05IM8wwQ76fq6yySnrnnXfGKO/TTz+d1l577XwPog4WXHDBdNZZZ1Xb54033kibbrppvhdxrAh2b7311mr7xFRQkW03xxxz5H2inuKe3nfffWO9P7/99lseebHqqqtW2/7JJ5+kSy65JN+bqh0aZVGvK620Uho8eHDetyyuPfa/6qqrKvchjl/XmhpRX3E9UebZZpstXXjhhZXP59jW1Ch/Lh5//PHc+TLVVFPl+ttoo43S119/Xe29//3vf/PvXHweojxxngEDBuQh8vWx2mqr5cyzUqlUr/0BAJqDmEJMUbSYojblz9ipp56a7198VqPuVl999fz5iDZ3tNXjmuOzs8EGG+R6q6o8pdW9996bFlpooVzWeeedN48kr+2+x73YY4890tRTT52PW9/7HHFN3KforKppq622yr9fVWOK+vyOhltuuSV/dqLc8e/NN99cZ32JRSgSIzUACubHH39M33zzTbVtMdw4XHnllWn77bdPa6yxRjr55JNzgygy26Nx+MILL1QWA4uG4nvvvZd23HHH3DiKxs9FF12U/33qqadyY2zjjTdOb731VrrmmmvSGWecUTlHfKFb84vc+thss81yg/XEE0+sNJKi0Rzzdm6++eZ5Ds84bmTqR0M9ytuY4enR0IvGehzjlFNOyV94RwMxGntHHHFE2mabbfK1XXDBBTmwWHrppccYeh/7x7kjeIphzVGHH374YaXBH+K1aIRHYzpGE5T3e/bZZ/OX3xNOOGHleBHYRZkiuNp2221Tr169crBRngM2yhVie4h7E43PqLMo25dffpm/gF9xxRVzIBeN4KoGDhyYp0uKoCU+H3HdcZ0RcJTFPY/G+LTTTpunc4r7/vrrr6fbb789Pw9x/8sZTzGnctRZBDcbbrhhuvHGG/OX+OVrP+mkk/I9W2KJJdKIESPyPMTPP/98bgjXJYKwGEmxyCKLVNseDfK4b3E/6hKvPfjggzmAifOWxfDoKGPcs/iMVl3wrqr4PK255pr5+uO+xfli2oX4PNdX3K8I3mL+3giQzjzzzHze6667rlowE/c0Oj/i3yjf0Ucfneto0KBB4zxHBOPx+xb3ormmgAAAEFOMnZiieDHF2MT9i/dEXUWnRVxbfF6icyrux6GHHpo7cOJzE9d/6aWXVnv/22+/nbbYYos8RVP8bsRIkajXiE1qljU6NOLzHTFAjNSo732O40fHS0y5G8cui9+/6GiIzraOHTs26Hc0OmI22WST3AkTdR2fofh9rdrZUpVYhEIpAVAIl112WbTaa32En376qdSzZ8/SrrvuWu19X3zxRalHjx7Vto8cOXKM419zzTX5WI888khl26BBg/K2999/v9q+8Ty2R5lqiu3HHHNM5Xn8HNu22mqravt98MEHpY4dO5ZOOOGEatuHDx9e6tSp0xjb66qPZ599trJt++23z9tOPPHEyrbvv/++1LVr11KHDh1K1157bWX7G2+8MUZZy8dcdNFFS3/88Udl+ymnnJK3//e//83Pv/rqq1Lnzp1Lq6++emnUqFGV/c4999y836WXXlrZtuKKK+ZtF1xwwRjXMN988+XXa/rtt9+qHbdc5126dCn179+/su3BBx/Mx55nnnlKv//+e2X7WWedlbdHXYa//vqrNMsss5R69+6d66Oq0aNHV35eZZVVSgsssEA+f9XXl1lmmdIcc8xR2danT5/SOuusU2qowYMHVytX2X777Ze3v/DCC3W+9/nnn8/7HHDAAZVt8XyCCSYovfrqq2PsX/PerrfeeqWJJ5649Omnn1a2vf322/mzVrM5FPUUn6Wan4tVV121Wn3tv//++TP8ww8/jPV36x//+Ec+d9V6jePHeWp64okn8rmuu+66OusCAKCxxBS114eYovgxRYiyVT1m+TM21VRTVWuzH3744Xl7lOHPP/+sbI/PV9yTqmWPY8a+N954Y2Xbjz/+WJp22mlLCy+88Bj3fbnllst1VVbf+xx1NP3005c22WSTatd0/fXXV/udasjv6EILLZTLWfXa77333nw8sQhFZ/opgIKJ7I3IkKn6CPFvDF+NoamRdVV+RDbHkksumbPcy2JobdXhu7HfUkstlZ9HZkxziKyWqmK4bqyBEBkyVcsb2T6RfVW1vA1VNZM/sqPmmmuunCEU5yqLbfFaZDDVFAvOVc2KimyaWHT6zjvvzM+HDh2aM33222+/agtK77rrrnlYd2TXVBVDjCMjpr5i//JxI0ssMmoi+yrKXNv9iWN37ty58jyGIYfytUW2zvvvv5/LWzNTrZwlFhlLMaog6uinn36q3I84d2QARXbSp59+WqnTyN6JbQ1RnoogRjtUFecLMWy6LuXXIoOrqsg0i8yjsYk6jHsW2WFVM9Jmn332nO1WX/G5qDpVVdRzHDsy7mr73SrXY+wX2VMxDH9cynVTM3MSAKApiSnGTUxRrJhibGLkQ48ePSrP47McYsRL3JOq2+OelMtYFjFEeYRJKE8nFnXyxRdfVNs37l95REVD7nPUYZQzPh8///xzZb8YFR6jXsrTrdX3d/Tzzz9PL774Yh7RUfXaY2RJXfGTWIQiMf0UQMHE0NzaFvUrNwbrWtQrGkxl0diM4a/XXntt+uqrr6rtF0ONm0PN4dhR3kjCimCjNlUDgIaIuUJrTikUjbgYYltz7YTYXtu8tjXLFI3/GGIdUw6F8pfYERBUFUFAzNNa9UvuEI3QqgHCuERgFvPSxryrEThUnTs15pqtaaaZZqq1MVq+tnfffTf/O7YhxDHcOu5HDN2PR23isxLXEtM2xXyzc845Zz5mTOu03Xbb5fl066PmHK3lDoty50Zt6ur4qPm5qqvcv/76a+7EqKm2bXUZVz2HCMyOPPLIHMzV7ICpz+9WuW5qflYBAJqSmGLsxBTFiynGpua1lb/kn3HGGWvdXvN+RsxQ875HuUPcz+hEq+sz2pD7HFNQxRS3sf5IrB0TnRvRyRFrs5TPX9/f0fJxa/vdqKtjSyxCkejUAGgjotFanl+zaqOqrGoGSmTOPPHEE3nRvljsLBrY8f5oSJaPMzZ1NXLGthhy1UyucnnjOLGeQtVMlrIoU2PUdqyxbR8fi6DVvPZxiTmCIwiIhRZj4bpYYC+yeiK7p7b70xTXVj5uzCEbWVS1KXcAxNzCEdTEotgxT2ss4B1zr8acwlUz2moqB08RJFSdx3WeeeapLDYZn8faxGuhZlZRQ+v27xhXPUfGVIwciUAigrRYJDwC4ggYYp7e+vxulQOo8nzTAADjk5ji/xNTFC+maC338+/EJzHSKdbDiDVIolMj1tKI5Kzo7GjM72hDiUUoEp0aAG1EfIEapp566rwA2dgaKvfff3/OqorFy8pqG/ZbV6BRztqJL3GrqplNNK7yRmMxMlnKWS6tRdTFSiutVHkeGTIxfHfttdfOz3v37p3/jQXeIrumLIYVRxbU2Oq/PvV7ww035PNfcskl1bZHfTemgVn+bLzyyit1lq18HZHNVp/yR1AUQ9TjEfUTQUksgDe2AGTuuefO/0YdLbDAApXtMQVUBBTRMK9rsfArrrgiN9AjSG6o+J2IzoXIHKuptm2NFYsMxnD4mAYh6qMsrre+yvuWO3oAAMYnMUXTEVOM35iiOZVHoFSt67feeiv/W16Uuy4Nvc/RWRgjbGLUd0w9FccvT+vWkN/R8nlr+52MstRGLEKRWFMDoI2ITJjIEI+MnD///HOM17/++utq2Sg1s09imGtNMWdsbYFGnCcawo888ki17TG0ub423njjXJYIhGqWJZ6X50ptCRdddFG1Ojz//PPTX3/9VVl/IRqPMVz47LPPrlb2CBhiqP0666xTr/NE/das2xD1UrNO/vOf/4wxt2t9LbLIIjnQi3tc83zl80SjuG/fvunCCy/MwVZdn59Q895EBlxkXP3+++9jLceiiy6a6+25556rtj2GfUcgE/PNRl3XFNlaMZ3TzjvvXO9srJr1GffslltuSZ999lm14CSy+ppKbb9bEaw05Pdi2LBhedj7fPPN12TlAgCoLzFF0xFTjN+YojlFDHHzzTdXnkeHQyRdxQil2kZLVNXQ+xyjMqIOLr/88nT33XdXW8OlIb+jMdVZlC+OU3U6uFiT47XXXqu1rGIRisRIDYA2Iho20VCOeUijwbnlllvmeWA/+uijvPjYsssum84999y8X2TAnHLKKbkRFPOZxnDf2rLJo8EYjjjiiHy8yLhZb731csM5smcGDhyY/435eCMYKWer1EdkmBx//PHp8MMPz/OQxiLOsV5ClCMajLGwXgxbbgnxRfQqq6ySG5CRxRKBVSzMtv766+fXo16j3BE8xciB2F7eb/HFF88LztVH1G/cs6iHaMBHEBBzo6677rp5+qL4on+ZZZZJw4cPT1dddVW1zJ6GiGHmcZ64d9GwjeNGIzcWro41IO65557KgpFxnZHxFAvXxfm+/PLL9OSTT6ZPPvkkvfTSS5UpoCJYifJHdlUEFJEJttdee421HDFaYvXVV8+dF3F9VcVQ8yjPHnvskRvv5REZUbYYkh7TOp122mmpsSLjKz7n8XsQizTGtAbx+xDz98YCek0h7lVkHMZifPvss0/O5IrRJw0Zvh5BRtwn89gCAC1BTNF0xBTjP6ZoLjEKKBKsnn322dSrV6906aWX5mu67LLLxvneht7n+L2L+xi/L9G5UXXqqYb8joaTTjopd5rE/YhpyGIdnHPOOSd3WlRdjLxMLEKhlAAohMsuuyy+GS09++yzY93vwQcfLK2xxhqlHj16lCaaaKLSbLPNVtphhx1Kzz33XGWfTz75pLTRRhuVevbsmffbbLPNSp999lk+/jHHHFPteAMGDChNP/30pQkmmCC//v777+ftI0eOLO288875/ZNOOmlp8803L3311VdjHCN+jm1ff/11reW98cYbS8stt1xpkkkmyY+55567tOeee5befPPNBtfH9ttvn49R04orrliab775xtjeu3fv0jrrrDPGMR9++OHSbrvtVppssslK3bp1K22zzTalb7/9doz3n3vuubm8E044YalXr16l3XffvfT999/X69zhiy++yOeP+ovzxr7ht99+Kx144IGlaaedttS1a9fSsssuW3ryySfz6+V9yvc63vef//yn2nHjHsX2uJ6qHnvssdJqq62Wzxf1tOCCC5bOOeecavu8++67pX79+pWmmWaafF1x79ddd93SDTfcUNnn+OOPLy2xxBL58xPlizo44YQTSn/88UdpXG666aZShw4dSh999NEYr/3++++lM844o7Tooovm8k088cSlRRZZpHTmmWfWeuy4xvis1Ka2z/L9999fWnjhhUudO3fOvxeDBw/O9Ry/JzU/F/FZGtfvXrn+49+yxx9/vLTUUkvlepluuulKhxxySOmee+4ZY784fpynqtdffz3vN3To0LHUIABA44kpxl0fYorixhQ170X5GgYNGlRtv7quubbPQ/mY0aaPa+3SpUsua33e29D7XHbEEUfkY80+++x/63e0/Lsxzzzz5HLPO++8ue7EIrQFHeI/Ld2xAgCtwZAhQ3LGUWTgRKYYTS9GSERWVmSsxYKFLS2y+SKzrLa5Zse3WLQxshNj2LfsKACAYhJTtK2YIta0iNHdt99+e2rLxCIUjTU1AIDxJub2jWHiMSy9tiHPzenXX3+t9jw6Mu6888487L2lxZzCgwcPztMGCCIAAKB1xhRtkViEIrKmBgAwXsW8sDXnhh0fYj7fHXbYIf/74Ycf5rloY9G+Qw45JLW0KaaYQkAGAACtPKZoi8QiFJFODQCgXYiF+a655pr0xRdfpC5duqSll146nXjiiWmOOeZo6aIBAAAA9WRNDQAAAAAAoBCsqQEAAAAAABSCTg0AAAAAAKAQrKkBVYwePTp99tlnadJJJ00dOnRo6eIAALQqMXPtTz/9lKabbro0wQTyo6ChxBsAAH8/3tCpAVVEgDHjjDO2dDEAAFq1jz/+OM0wwwwtXQwoHPEGAMDfjzd0akAVkTFV/sXp3r17SxcHAKBVGTFiRP5CttxmAhpGvAEA8PfjDZ0aUEV5CHgEGIIMAIDamTYHGke8AQDw9+MNE+ECAAAAAACFoFMDAAAAAAAoBJ0aAAAAAABAIVhTA2qxwpHXpI5durZ0MQAAxmnYoH4tXQSggcQbAEBRDGuF8YaRGgAAAAAAQCHo1AAAAAAAAApBpwYAAAAAAFAIOjUAAAAAAIBC0KkBAAAAAAAUgk4NAAAAAACgEHRqAAAAAAAAhaBTAwAAAAAAKASdGgAAAAAAQCHo1AAAAAAAAApBpwYAAAAAAFAIOjUAAAAAAIBC0KkBAAAAAAAUgk4NAAAAAACgEHRqAAAAAAAAhaBTAwAAAAAAKASdGtTqgw8+SB06dEgvvvhis53joYceyuf44Ycfmu0cAABA6yPeAACgsXRq0GKWWWaZ9Pnnn6cePXq0dFEAAIA2RrwBANA2dWrpAtB+de7cOU0zzTQtXQwAAKANEm8AALRNRmoUyN13352WW2651LNnzzTFFFOkddddN7377rv5tU033TTttddelX3322+/PNT6jTfeyM//+OOPNMkkk6ShQ4eO81i1GTVqVNppp53S3HPPnT766KO87b///W9aZJFF0kQTTZRmnXXWdNxxx6W//vqr8p44/+DBg9NGG22UJp544jTHHHOkW2+9tc7h4EOGDMnlueeee9I888yTunXrltZcc82cXVUWx99nn30q5T700EPT9ttvnzbccMPKPjfccENaYIEFUteuXfM+q666avrll1+a5B4AAEBbJd4QbwAAFIFOjQKJhvIBBxyQnnvuuXT//fenCSaYIDfgR48enVZcccXcaC97+OGH05RTTlnZ9uyzz6Y///wzD8Ee17Fq+v3339Nmm22W57t99NFH00wzzZT/7devX9p3333Ta6+9li688MIcJJxwwgnV3huBx+abb55efvnltPbaa6dtttkmfffdd3Ve48iRI9Opp56arrzyyvTII4/kgOaggw6qvH7yySenq666Kl122WXp8ccfTyNGjEi33HJL5fUISLbaaqscEL3++uv5+jfeeONUKpVqPV9cWxyj6gMAANoj8YZ4AwCgCDqU6mp90ep98803aaqppkrDhw/Pjeg+ffqkL7/8MnXq1CkPsz7qqKPSK6+8kq699trc+L/zzjtzw3xcx5p//vnzwn2zzDJLDiaOPfbY3Bi//fbbK/PRRjbSKquskg4//PDKMf7973+nQw45JH322Wf5eWRFHXnkkWnAgAGVwCayoe66666cERUBwEorrZS+//77nAkVQcqOO+6Y3nnnnTTbbLPl95x33nmpf//+6YsvvsjP47oi6CgHHpHRFVlbCy+8cA42nn/++bTooovm8vfu3XucdRjXFoFQTX32viB17NK1EXcFAGD8Gjao33g7V3whG+3BH3/8MXXv3n28nZeWId4QbwAADGuF8YaRGgXy9ttv56ygaFTHTZ155pnz9sguisBg8sknzxlTERhEozuGeMfzEP/27du3XseqKvaJ4ODee++ttsDeSy+9lBv/ETSUH7vuumvOXIrsp7IFF1yw8nMMR49zffXVV3VeYwwbLwcYYdppp63sHx/mCKKWWGKJyusdO3bMQUVZBFoR/MRw8Mj2uvjii3MQU5cIkuK45cfHH388ljsAAABtl3hDvAEAUAQ6NQpkvfXWy0Opo+H89NNP50d5/trIUlphhRVyNlI5oIgGfmQ8RfbUE088kYeM1+dYVcUQ7hjK/eSTT1bb/vPPP+eMoxgiXn5E1lUELzHnbdmEE05Y7X1RztqGnI9t/4YMJoqg47777svZWfPOO28655xz0lxzzZXef//9Wvfv0qVLDnyqPgAAoD0Sb4ybeAMAoOXp1CiIb7/9Nr355pt5eHVkBsXCdjUzgsrz3MYjgoyYtzYCj0GDBuVgY9lll633scp23333NHDgwLT++utXsrBCLNgXx5h99tnHeMR5m0NkbvXq1SvP11sWw8FjCHjNwCSuNYKgF154IXXu3DndfPPNzVImAABoC8Qb4g0AgKLo1NIFoH4mm2yyNMUUU6SLLrooD5GOYduHHXZYtX0isNh///1zo3q55ZarbIv5YBdffPE8HLu+x6pq7733zo35GF4eGUlx7KOPPjo/j0X8Nt100xxYxBDxyNI6/vjjm60eoiwnnXRSDmbmnnvunBkVAVIEFiEywGIhwtVXXz1NPfXU+fnXX3+dAykAAKB24o3/lUW8AQDQuunUKIhoxMcCfPvss0+ezzaGOJ999tnV5q2NeV1jAbw555wzzzkb4vUIEKruV59j1bTffvvlYdwxPPzuu+9Oa6yxRl7IL+a5Pfnkk/Mw7mj077LLLs1aD4ceemhexK9fv3556Pduu+2WyxI/hxjO/cgjj6QzzzwzLywTi/eddtppaa211mrWcgEAQJGJN/4/8QYAQOvXodSQCUShlYnAJ7KiNt988zRgwIC/fbwITGLYeZ+9L0gdu3RtkjICADSnYYP6jbdzldtKseCxtQFoD8QbAEB71xrjDSM1KJQPP/ww3XvvvXk+35i399xzz82L8m299dYtXTQAAKDgxBsAAK2fhcIplBjKPmTIkDxnbyzON3z48DR06FBz2AIAAH+beAMAoPUzUoNCmXHGGdPjjz/e0sUAAADaIPEGAEDrZ6QGAAAAAABQCDo1AAAAAACAQtCpAQAAAAAAFIJODQAAAAAAoBB0agAAAAAAAIWgUwMAAAAAACgEnRoAAAAAAEAh6NQAAAAAAAAKQacGAAAAAABQCDo1AAAAAACAQtCpAQAAAAAAFIJODQAAAAAAoBB0agAAAAAAAIXQqaULAK3RI8dvlbp3797SxQAAANog8QYAQOMZqQEAAAAAABSCTg0AAAAAAKAQdGoAAAAAAACFoFMDAAAAAAAoBJ0aAAAAAABAIejUAAAAAAAACkGnBgAAAAAAUAg6NQAAAAAAgELQqQEAAAAAABSCTg0AAAAAAKAQOrV0AaA1WuHIa1LHLl1buhhASmnYoH4tXQQAgCYl3gBamjgLKDIjNQAAAAAAgELQqQEAAAAAABSCTg0AAAAAAKAQdGoAAAAAAACFoFMDAAAAAAAoBJ0aAAAAAABAIejUAAAAAAAACkGnBgAAAAAAUAg6NQAAAAAAgELQqQEAAAAAABSCTg0AAAAAAKAQdGoAAAAAAACFoFMDAAAAAAAoBJ0aAAAAAABAIejUAAAAAAAACkGnBgAAAAAAUAg6NQAAAMbigw8+SB06dEgvvvhiqzrezDPPnM4888wmKVN7M2TIkNSzZ8+WLgYAAI2gUwMAAIA2q7bOny222CK99dZbLVYmAAAar9PfeC8AAAAUTteuXfMDAIDiMVKDVuPuu+9Oyy23XB4GPsUUU6R11103vfvuu5XXn3jiibTQQguliSaaKC222GLplltuGWPY/iuvvJLWWmut1K1bt9SrV6+03XbbpW+++aaFrggAgLbSFq3p1Vdfzft07949TTrppGn55Zev7D969OjUv3//NMMMM6QuXbrkNmwcv6b33nsvrbTSSmniiSdOffr0SU8++WS112+88cY033zz5WPEaIPTTjut0df3ww8/pH/84x+5jRzt6fnnnz/dfvvt9T5XbDvxxBPTTjvtlK93pplmShdddFHl9T/++CPttddeadppp83H7927dzrppJPqnG4ryhPbHnroofw8/o3n99xzT1p44YVzh8PKK6+cvvrqq3TXXXeleeaZJ9f11ltvnUaOHFk5Tt++ffN549GjR4805ZRTpqOOOiqVSqXK6x9++GHaf//98/HjUdf0U+eff36abbbZUufOndNcc82Vrrzyymqvx3sHDx6cNtpoo3zP5phjjnTrrbc2+p4AANA4OjVoNX755Zd0wAEHpOeeey7df//9aYIJJsgBQwSFI0aMSOutt15aYIEF0vPPP58GDBiQDj300Grvj8AoAp8IguIYETh++eWXafPNN6/znL///ns+dtUHAADtz9jaojV9+umnaYUVVsgdAA888EAaNmxY/rL/r7/+yq+fddZZuVPg1FNPTS+//HJaY4010vrrr5/efvvtasc54ogj0kEHHZS/7J9zzjnTVlttVTlGHDPasVtuuWUaPnx4OvbYY/OX9fFlfEPFNUTiz+OPP57+/e9/p9deey0NHDgwdezYsUHnimuK5KIXXngh7bHHHmn33XdPb775Zn7t7LPPzl/wX3/99XnbVVddlTtCGirOfe655+aEpo8//jiXK6aOuvrqq9Mdd9yR7r333nTOOedUe8/ll1+eOnXqlJ555plc96effnrufAg33XRT7lyKTqbPP/88P2pz8803p3333TcdeOCBOVEqOoB23HHH9OCDD1bb77jjjstlivu69tprp2222SZ99913dV6PeAMAoOmZfopWY5NNNqn2/NJLL01TTTVVDroee+yxnBl18cUX58yveeedNweTu+66a2X/CH6iQyMyyKoeY8YZZ8zz5UagWFNkj0VgAgBA+za2tmiMAq7qX//6Vx4VcO2116YJJ5wwb6va1ozOjEjAiU6CcPLJJ+cvx+PL+XhvWXRorLPOOvnnaJPGSIl33nknzT333PmL+VVWWSV3LpSPH2UZNGhQ2mGHHRp0bUOHDs1f+L/++uuVcs4666yV1+t7rvgSPzozQlzfGWecka8rRjV89NFHeeRCjHaJdnuM1GiM448/Pi277LL555133jkdfvjheQRMubybbrppPmfVBKdo70dZ4rxRluiYiecRK0w++eS58yZGl0wzzTR1njfuWVxr+fqig+upp57K22M0TVnsE51PIeKO6MyJul1zzTVrPa54AwCg6RmpQasRmWsRIETAEkPLy5ldESBFtteCCy6YOzTKllhiiWrvf+mll3KAE0Fn+REBYahr6oAIkn788cfKI7LBAABof8bWFq0pRlbEdFPlDo2qIhP/s88+q3wxXxbPo1OhqmjflsW0TSGmWwqxb23HiHKOGjWqQdcW5Y3RCrUl+TTkXFXLGx0I0UlQLm982R/niU6FffbZJ4+oaIyq54ipsmKap6odMLGtfM6ypZZaqjKtVFh66aUbXE911cHY7tkkk0ySPys1y1OVeAMAoOkZqUGrEdNLRUZXjMaYbrrp8jD5mOs35uetj59//jkfIzLhaioHiTXFlAHxAACgfWtIW7SpFpiu2ilS/lK+tumu/q7mKG+5zOXyLrLIIun999/P61/EyJCYomnVVVdNN9xwQ57KK5TXuQh//vnnOM8Rxx/bOVtCQ8sj3gAAaHpGatAqfPvtt3k0xpFHHpmHvsdCgN9//33l9fIw8piTtuzZZ5+tdowIpGLBxsiqm3322as9IosKAAAa0xatKbL1H3300Vq/mI/M/egUifUrqornMYVqfUUZajtGjLYor4VRX1HeTz75JE/J2pznimvfYostcsfQddddlxcfj/UmYhqvUHU9i6qLhv9dTz/9dLXnMW1UTIVVLnss/D2uURt11UFD7hkAAOOHTg1ahckmmyxNMcUU6aKLLsrzCMeCizGPbdnWW2+dM6B22223PAT8nnvuyfPbVs1q23PPPXPQFNMGRIdHTDkV+8UCfw0dog8AQPsxrrZoTXvttVeeZirWzIiFxWOqoyuvvLKyaPbBBx+cRw/HF/ux7bDDDstf4sdC1PUVC1bHguUDBgzInRGxGHasIRfrcDTUiiuumBc2j3VD7rvvvsqIirvvvrvJzhXrclxzzTXpjTfeyMf4z3/+k6en6tmzZx4pElNExeLk0ZZ/+OGHcwdSU4kpwuJ+RV1HGWIh8ap1HUlPjzzySF6T75tvvqn1GHHPYmH0888/P9/PuJ5YZLwx9Q0AQPPSqUGrEEPSY6HFYcOG5WH++++/f16YsGrW12233ZaDwYUWWigdccQR6eijj86vldfZKGfERQfG6quvnhZYYIG033775UCqPOQdAAAa2hatKTpAouMjpj+NDoNFF100j04oT00Ua0rEl+zRWRBt0ug8uPXWW/PogfqKUcjXX399LleUKdq+/fv3b/Ai4WUxamLxxRfPCUAx+uCQQw6pJP40xbliIe5TTjklLbbYYvk8H3zwQbrzzjsr7fBYeP2vv/7KdRVt9FgQvKn069cv/frrr3nNvUh0ig6NSIYqi2uJ8sw222yVUSM1bbjhhumss87KiVOxYPuFF16YLrvsstS3b98mKycAAE2jQ6nqxKZQIFdddVUehREL7jXVPMGRcdejR4/UZ+8LUscuTXNM4O8ZNqhfSxcBgBptpWh/RdIJtLTodIikpzPPPDMVgXgDaC3EWUCR4w0LhVMYV1xxRZp11lnT9NNPn1566aV06KGH5gUIm6pDAwAAAACA1s2cPBTGF198kbbddtu8iF9MCbDZZpvleY8BAKC9j2Du1q1brY+YSgkAANoSIzUojJj3Nx4AAMD/rL/++mnJJZes9bXyOh9t1UMPPdTSRQAAYDzTqQEAAFBgsUh3PAAAoD0w/RQAAAAAAFAIOjUAAAAAAIBC0KkBAAAAAAAUgk4NAAAAAACgEHRqAAAAAAAAhaBTAwAAAAAAKASdGgAAAAAAQCHo1AAAAAAAAApBpwYAAAAAAFAIOjUAAAAAAIBC0KkBAAAAAAAUgk4NAAAAAACgEDq1dAGgNXrk+K1S9+7dW7oYAABAGyTeAABoPCM1AAAAAACAQtCpAQAAAAAAFIJODQAAAAAAoBB0agAAAAAAAIWgUwMAAAAAACgEnRoAAAAAAEAh6NQAAAAAAAAKQacGAAAAAABQCDo1AAAAAACAQtCpAQAAAAAAFEKnli4AtEYrHHlN6tila0sXA1qVYYP6tXQRAADaBPEG0NzEb0BbZqQGAAAAAABQCDo1AAAAAACAQtCpAQAAAAAAFIJODQAAAAAAoBB0agAAAAAAAIWgUwMAAAAAACgEnRoAAAAAAEAh6NQAAAAAAAAKQacGAAAAAABQCDo1AAAAAACAQtCpAQAAAAAAFIJODQAAAAAAoBB0agAAAAAAAIWgUwMAAAAAACgEnRoAAAAAAEAh6NQAAAAAAAAKoc10anzwwQepQ4cO6cUXX2xVx5t55pnTmWee2SRlam+GDBmSevbs2dLFAAAAAACglWgznRoUW22dP1tssUV66623WqxMAAAAAAC0Lp1augBQl65du+YHAAAAAAAUbqTG3XffnZZbbrk8JdEUU0yR1l133fTuu+/Wuf+rr76a9+nevXuadNJJ0/LLL1/Zf/To0al///5phhlmSF26dEkLLbRQPn5N7733XlpppZXSxBNPnPr06ZOefPLJaq/feOONab755svHiNEGp512WqOv74cffkj/+Mc/Uq9evdJEE02U5p9//nT77bfX+1yx7cQTT0w77bRTvt6ZZpopXXTRRZXX//jjj7TXXnulaaedNh+/d+/e6aSTTqpzuq0oT2x76KGH8vP4N57fc889aeGFF84dDiuvvHL66quv0l133ZXmmWeeXNdbb711GjlyZOU4ffv2zeeNR48ePdKUU06ZjjrqqFQqlSqvf/jhh2n//ffPx49HXdNPnX/++Wm22WZLnTt3TnPNNVe68sorq70e7x08eHDaaKON8j2bY4450q233troewIAALQN44onn3jiiRwXRqy02GKLpVtuuWWMGOmVV15Ja621VurWrVuO27bbbrv0zTfftNAVAQC0T4Xq1Pjll1/SAQcckJ577rl0//33pwkmmCB/eR0dFDV9+umnaYUVVsgdAA888EAaNmxY/rL/r7/+yq+fddZZuVPg1FNPTS+//HJaY4010vrrr5/efvvtasc54ogj0kEHHZQbsnPOOWfaaqutKseIY26++eZpyy23TMOHD0/HHnts/rI+voxvqLiGaBw//vjj6d///nd67bXX0sCBA1PHjh0bdK64pmiAv/DCC2mPPfZIu+++e3rzzTfza2effXb+gv/666/P26666qrcEdJQce5zzz03N/o//vjjXK6YOurqq69Od9xxR7r33nvTOeecU+09l19+eerUqVN65plnct2ffvrpufMh3HTTTblzKTqZPv/88/yozc0335z23XffdOCBB+ZgIjqAdtxxx/Tggw9W2++4447LZYr7uvbaa6dtttkmfffdd7Ue8/fff08jRoyo9gAAANqescWTEQest956aYEFFkjPP/98GjBgQDr00EOrvT+SviKpKxK84hjRSfLll1/m2KMu4g0AgHY+/dQmm2xS7fmll16apppqqtwBEJkyVf3rX//KowKuvfbaNOGEE+Zt0SlRFp0Z0UiNToJw8skn5y/H48v5eG9ZdGiss846lS/LY6TEO++8k+aee+78xfwqq6ySOxfKx4+yDBo0KO2www4NurahQ4fmL/xff/31SjlnnXXWyuv1PVd8iR+dGSGu74wzzsjXFaMaPvroozxyIbKTIuMoRmo0xvHHH5+WXXbZ/PPOO++cDj/88JzhVC7vpptums9ZNQiYccYZc1nivFGW6JiJ57vuumuafPLJc+dNjC6ZZppp6jxv3LO41vL1RUDy1FNP5e0xmqYs9onOpxAjV6IzJ+p2zTXXHOOYMVIl7isAANC2jS2efOyxx3KscvHFF+eRGvPOO29OlIt4pSwSu6JDI2KMqseIWCfWAqwab5aJNwAA2vlIjRhFEV9Wx5fnMc1ReZRBfFlfU4ysiOmmyh0aVUV2zGeffVb5Yr4snkenQlULLrhg5eeYtinEdEsh9q3tGFHOUaNGNejaorwxWqG2hnBDzlW1vNEoj06Ccnnjy/44T3Qq7LPPPnlERWNUPUcMuY5pnqp2wMS28jnLllpqqcq0UmHppZducD3VVQdju2eTTDJJ/qzULE9ZdMj8+OOPlUeMPAEAANqescWTMZI94ojo0ChbYoklqr3/pZdeyslbkVBXfkSyW6hrWmTxBgBAOx+pEcOBY3RBZM9MN910eZhwrDsRa0XU1FQLTFftFCl/KV/bdFd/V3OUt1zmcnkXWWSR9P777+f1L2JkSAyTXnXVVdMNN9yQh16H8joX4c8//xznOeL4YztnS2hIeWJ6sngAAABtW0Piydr8/PPP+Rgxyr+mcgJcTeINAIB2PFLj22+/zdkzRx55ZJ6GKRal/v777+vcP7JsHn300Vq/mI+snGjExvoVVcXzGGZcX1GG2o4Roy3Ka2HUV5T3k08+ycOWm/Ncce1bbLFFbshfd911efHxWG8ihl2HqutZVF0Q7+96+umnqz2PaaNiKqxy2WPh73GN2qirDhpyzwAAgPZnXPFkeYrcWAOj7Nlnn612jEgSe/XVV/MIj9lnn73aI0aIAwAwfhSmU2OyySZLU0wxRbrooovymhax+HesqVCXvfbaK08zFWtmxCJuMdT4yiuvrCyaffDBB+cMm/hiP7Yddthh+Uv8WIi6vmLB6lhgLhaRi86IWAw75lmNdTgaasUVV8wLm8c8r/fdd19lREUsPtdU54p1Oa655pr0xhtv5GP85z//ydNT9ezZM48UiSmiYnHymM7p4Ycfzg3+phJDuuN+RV1HGWIh8ap1HYHBI488kuet/eabb2o9RtyzWBj9/PPPz/czricWGW9MfQMAAO3HuOLJrbfeOo/c2G233XI8dM899+S1+6qO2N9zzz1zQlhMYRUdHjHlVOy34447Nnj6YQAA2kGnRkyPFIt+Dxs2LA8R3n///fMi2XWJBms0VGOIcHQYLLroonl0QnlqolhTIhqx0VmwwAIL5M6DW2+9NY8eqK/I1Ln++utzuaJMRx99dOrfv3+DFwkvi1ETiy++eG4kx+iDQw45pNI4bopzxULcp5xySlpsscXyeT744IN05513VqaeikXu/vrrr1xX++23X14QvKn069cv/frrr3le2ggGokMjAoayuJYoz2yzzVYZNVLThhtumM4666wcXMSC7RdeeGG67LLLUt++fZusnAAAQNszrngyRrTfdtttOdFtoYUWSkcccUSOuUJ5nY3yaP+I0VZfffUcR0bcFEli5ZgKAIDm16FUdREFaAbR6RCBwZlnnplauxjd06NHj9Rn7wtSxy5Ns84JtBXDBvVr6SIA0EraSrHgcXwJDG3ZVVddlUdhxOe9qdZAFG8A44v4DWjL8UahFgoHAACA5nDFFVekWWedNU0//fTppZdeSoceemjafPPNm6xDAwCApmGM7HjM8unWrVutj5hKCQAAgJbzxRdfpG233TYvIh7TU2222WZ5DQ4AAFoXIzXGk/XXXz8tueSStb5WXuejrXrooYdauggAAABjFWsaxgMAgNZNp8Z4Eot0xwMAAAAAAGgc008BAAAAAACFoFMDAAAAAAAoBJ0aAAAAAABAIejUAAAAAAAACkGnBgAAAAAAUAg6NQAAAAAAgELQqQEAAAAAABSCTg0AAAAAAKAQdGoAAAAAAACFoFMDAAAAAAAoBJ0aAAAAAABAIejUAAAAAAAACqFTSxcAWqNHjt8qde/evaWLAQAAtEHiDQCAxjNSAwAAAAAAKASdGgAAAAAAQCHo1AAAAAAAAApBpwYAAAAAAFAIOjUAAAAAAIBC0KkBAAAAAAAUgk4NAAAAAACgEHRqAAAAAAAAhaBTAwAAAAAAKASdGgAAAAAAQCF0aukCQGu0wpHXpI5durZ0MSiwYYP6tXQRAABopcQbNJT4AgD+x0gNAAAAAACgEHRqAAAAAAAAhaBTAwAAAAAAKASdGgAAAAAAQCHo1AAAAAAAAApBpwYAAAAAAFAIOjUAAAAAAIBC0KkBAAAAAAAUgk4NAAAAAACgEHRqAAAAAAAAhaBTAwAAAAAAKASdGgAAAAAAQCHo1AAAAAAAAApBpwYAAAAAAFAIOjUAAAAAAIBC0KkBAAAAAAAUgk6NRtphhx3ShhtuWOfrxx57bFpooYXGa5kAAIDiE2sAAEDddGo0k4MOOijdf//9qbWYeeaZ05lnntng9/Xt2zftt99+zVImAACg4cQaAAC0Z51augBtVbdu3fIDAACgKYk1AABoz9rMSI0bbrghLbDAAqlr165piimmSKuuumr65ZdfKkO3TzzxxNSrV6/Us2fP1L9///TXX3+lgw8+OE0++eRphhlmSJdddlm14w0fPjytvPLKlePttttu6eeff67z/M8++2yaaqqp0sknn1zrkPByOU499dQ07bTT5mPuueee6c8//6zs8/nnn6d11lknn3OWWWZJV199db2znkqlUj7nTDPNlLp06ZKmm266tM8++1QyoD788MO0//77pw4dOuRH+Pbbb9NWW22Vpp9++jTxxBPn+rvmmmuqlfnhhx9OZ511VuV9H3zwQRoyZEiux6puueWWynHDSy+9lFZaaaU06aSTpu7du6dFF100Pffcc2O9hrhfsW/cy5rHnmSSSdJPP/2Un3/88cdp8803z2WI+7fBBhvkcpU99NBDaYkllsjviX2WXXbZfP0AANAYYg2xRplYAwCg5bWJTo1ooEeDeaeddkqvv/56bmhuvPHGufEdHnjggfTZZ5+lRx55JJ1++unpmGOOSeuuu26abLLJ0tNPP53++c9/pn/84x/pk08+qTR411hjjfx6BBD/+c9/0tChQ9Nee+1V6/nj+Kuttlo64YQT0qGHHlpnOR988MH07rvv5n8vv/zy3GCPR1m/fv1yOaP8N954Y7rooovSV199Va86iP3POOOMdOGFF6a33347N84jcAg33XRTDqYiwIq6ikf47bffcgBwxx13pFdeeSUHU9ttt1165pln8usRYCy99NJp1113rbxvxhlnrFd5ttlmm3zOqL9hw4alww47LE044YRjfU8EBltuueUYQV8833TTTXPQEoFZ3Jv4+dFHH02PP/54zlJbc8010x9//JEDyAjoVlxxxfTyyy+nJ598Ml9X1SCoqt9//z2NGDGi2gMAAMrEGmKNxsYaQbwBAND02sT0U9EAjgZmBBe9e/fO28qN7BAZNmeffXaaYIIJ0lxzzZVOOeWUNHLkyPR///d/+fXDDz88DRw4MD322GO5oRtZS9EIv+KKK3LjN5x77rlpvfXWy9lRkYVVdvPNN+cAYfDgwWmLLbYYazkjcInjdOzYMc0999w5Uyrmwo2G/BtvvJGDmWiYL7bYYnn/OOYcc8xRrzr46KOP0jTTTJOzxqJBH1lUkUFUvv44ZzTOY5+yyJqK+XjL9t5773TPPfek66+/Pr+3R48eqXPnzjmzqur76lueyE6L6wz1vY5ddtklLbPMMvmeRpZZBFp33nlnrptw3XXXpdGjR+e6KQcPEYhEllQEaFF3P/74Yw4kZ5tttvz6PPPMU+f5TjrppHTcccc16NoAAGg/xBpijcbGGkG8AQDQ9NrESI0+ffqkVVZZJQcXm222Wbr44ovT999/X3l9vvnmy0FGWQQKVQORaITHEO1yplJkYMUxy0FGiGHF0cB98803K9si8yrOd+WVV44zyCiXI85VVm5Ihzhup06d0iKLLFJ5ffbZZ8/BSX1EOX799dc066yz5sAlAqAIvsZm1KhRacCAAbkuIhiJLKQINCJI+LsOOOCAHDRE4BNBXGSN1UcEOFFPkV0W/v3vf+fgcYUVVqgMNX/nnXdy0FSeSzjKHoFhnCN+jqHskWEVgWFkgJWzxWoTQWYEJuVHDDcHAIAysYZYo7GxRhBvAAA0vTbRqRGN9/vuuy/dddddad55503nnHNOzpJ6//338+s1hyJH1k1t2yKQaIjIzonsoEsvvbTafLV1aYpz1iWGakewct555+V5cvfYY4/cOB9buQYNGpQb4jGMPYapv/jii7mBHkOrxyaCtvJw+7Ka54k5d1999dWcIRZD5uO+RPBTHxGglIfKR2bUjjvuWMmUirmGYxh7lLXq46233kpbb7115T0xFDyysCLbas4550xPPfVUreeKOYFjbt2qDwAAKBNriDUaG2sE8QYAQNNrE50aIRqikeEUQ3tfeOGFPJS5vg3bmmIIcWTpxHy3ZTGfanlIedmUU06ZG9GRzROLydUn2KhLHDeynaLsZXHcqllg4xIBRmQMxfD3GB4dje1YhDBEfUS2VFVxTbHw3bbbbpuzxSLzKhrsVdX2vlikMBbSq1o/0divKRr4sWDgvffem4fr15y/ti5RnlhsL67jtddeS9tvv33ltcgui3l8p5566pxdVvURQ9jLFl544ZwV9cQTT6T5558/D/MHAIDGEGuINcQaAACtR5vo1Iih2SeeeGJ67rnn8nDmWKzu66+/Huf8pmNbeG6iiSbKDdxY1C4yi2IO2FjYruoctyEavBFsxDy1sYDguIZh1yWysGL4dCw0F4vnRcARP0fwMLaF58oi2+iSSy7J5X3vvffyUOp4b3ne35lnnjkvXvjpp5+mb775pjL3bGSdRWM8hsHHAoZffvlltePG+6J+P/jgg/y+yPZacskl89y3MU9wDMOORnzVRQhjaHosdBjBTgQMEdDE/L31vR8xDD4Ck5gnd/XVV8+LAFa9NxHgRYAUi/dFhlycZ5999smLL8bzCDAiyIpzR5ATgUljPwsAALRvYg2xhlgDAKB1aROdGjGENxrRa6+9ds7YOfLII9Npp52W1lprrUYdLxrRMd/rd999lxZffPG06aab5nl0Y+G92sTCdhFsRKZSNIRrZhvVVywWGIFMDOXeaKON8ny1MZ9rBD3jEovXxfy+kUG24IIL5sXubrvttjx/b+jfv38OFmIYe2Q/hainyEaKYeB9+/bN17HhhhtWO24s7hdD7mNId7wvArmYSzYCmVhUL+bIveaaa/IQ8LLY/9tvv82LGsb9iMyyuBcNWSBv5513zkPTd9pppzHuTdzrWJwwgpEIIGLfmOc2PgfxegR9m2yyST53BGt77rlnDqIAAKChxBpiDbEGAEDr0qFUc8JSWo3IBor5ayNoiECnPYkFEWM4+WeffZaHpY8vI0aMyEPL++x9QerYpet4Oy9tz7BB/Vq6CADQbG2lWPDY2gDFJtYY/7FGEG/QWOILANqDEfWMNzqN11IxVpGBFYvTRUbS559/ng455JA8JDuyqdqLkSNH5msfOHBgznga30EGAAC0RWINsQYAQFvRJqafaiti8b+YO3a++ebLQ8JjCHbM4TrhhBOmq666KnXr1q3WR+xfFDE0vK7riLmKTznllDznbwxPj/lqAQCAv0+sIdYAAGgrTD9VED/99NMYC+uVRSBSXqSvtYvFA2Nxv9rE/LnxaEmGg9NUDA8HoC0y/VTbJNYYf8QbNJb4AoD2YITpp9qWWMQvHkU3/fTTt3QRAACAKsQaAAAUiemnAAAAAACAQtCpAQAAAAAAFIJODQAAAAAAoBB0agAAAAAAAIWgUwMAAAAAACgEnRoAAAAAAEAh6NQAAAAAAAAKQacGAAAAAABQCDo1AAAAAACAQtCpAQAAAAAAFIJODQAAAAAAoBB0agAAAAAAAIXQqaULAK3RI8dvlbp3797SxQAAANog8QYAQOMZqQEAAAAAABSCTg0AAAAAAKAQdGoAAAAAAACFoFMDAAAAAAAoBJ0aAAAAAABAIejUAAAAAAAACkGnBgAAAAAAUAg6NQAAAAAAgELQqQEAAAAAABSCTg0AAAAAAKAQOjX2jVdeeWW64IIL0vvvv5+efPLJ1Lt373TmmWemWWaZJW2wwQZNW0oYz1Y48prUsUvXli5GmzRsUL+WLgIAUADiDdoy8QZBbAQA43Gkxvnnn58OOOCAtPbaa6cffvghjRo1Km/v2bNnDjQAAAAaS7wBAAA0aafGOeecky6++OJ0xBFHpI4dO1a2L7bYYmn48OGNOSQAAEAm3gAAAJq0UyOGgC+88MJjbO/SpUv65ZdfGnNIAACATLwBAAA0aadGzGP74osvjrH97rvvTvPMM09jDgkAAJCJNwAAgCZdKDzmt91zzz3Tb7/9lkqlUnrmmWfSNddck0466aQ0ePDgxhwSAAAgE28AAAB1aVSnxi677JK6du2ajjzyyDRy5Mi09dZbp+mmmy6dddZZacstt2zMIQEAADLxBgAA0GSdGn/99Ve6+uqr0xprrJG22WabHGT8/PPPaeqpp27ooQAAAKoRbwAAAE26pkanTp3SP//5zzwUPEw88cQCDAAAoEmINwAAgCZfKHyJJZZIL7zwQmPeCgAAMFbiDQAAoEnX1Nhjjz3SgQcemD755JO06KKLpkkmmaTa6wsuuGBjDgsAACDeAAAAmrZTo7w43z777FPZ1qFDh1QqlfK/o0aNasxhAQAAxBsAAEDTdmq8//77jXkbAADAOIk3AACAJu3U6N27d2PeBgAAME7iDQAAoEk7Na644oqxvt6vX7/GHBYAAEC8AQAANG2nxr777lvt+Z9//plGjhyZOnfunCaeeGJBBgAA0GjiDQAAoC4TpEb4/vvvqz1+/vnn9Oabb6blllsuXXPNNY05JAAAQCbeAAAAmrRTozZzzDFHGjhw4BhZVUX2wQcfpA4dOqQXX3yxpYsCAADtWluLN8QaAADQwp0aoVOnTumzzz5rykPSxuywww5pww03bOliAABQQOINxkasAQDQPjRqTY1bb7212vNSqZQ+//zzdO6556Zll1220YX5448/8jy5jH8xT/GEE07Y0sUAAIBmiTfEGi1HrAEAQIuP1Ijsl6qPjTfeOB177LFpwQUXTJdeemm9j9O3b9+01157pf322y9NOeWUaY011kivvPJKWmuttVK3bt1Sr1690nbbbZe++eabau/Ze++983smm2yyvM/FF1+cfvnll7TjjjumSSedNM0+++zprrvuqlcZYo7ebbbZJk011VSpa9eueVj7ZZddVuf+4yrf6NGj00knnZRmmWWWfLw+ffqkG264ofL6Qw89lIeZ33HHHbm+JppoorTUUkvl49bHkCFDUs+ePdMtt9ySyxrvj3r7+OOPq+333//+Ny2yyCL59VlnnTUdd9xx6a+//qq8HmU4//zz0/rrr58mmWSSdMIJJ+Ttt912W1p88cXz++KebLTRRpX3/P777+mggw5K008/fX7Pkksuma+nZtnuueeeNM888+Q6WnPNNXMAGuIzcvnll+eyxfnjUX7/oYcemuacc8688GOU96ijjsrBT1XHH398mnrqqfM93mWXXdJhhx2WFlpooWr7DB48OJ87yj/33HOn8847r171CgBA69EU8YZYQ6wh1gAAaJsa1akRjemqj1GjRqUvvvgiXX311Wnaaadt0LGi4RkZU48//nieI3fllVdOCy+8cHruuefS3Xffnb788su0+eabj/GeaAQ/88wzOejYfffd02abbZaWWWaZ9Pzzz6fVV189BwAjR44c5/mjQfvaa6/lwOT111/Pje84dm1++OGHcZYvgowrrrgiXXDBBenVV19N+++/f9p2223Tww8/XO1YBx98cDrttNPSs88+m4Oc9dZbb4yGdV3iuiIwiPNEvUW5ttxyy8rrjz76aOrXr1+ebziu7cILL8xBQDmYKIuGfwQSw4cPTzvttFMOfuL52muvnV544YV0//33pyWWWKKyfwSFTz75ZLr22mvTyy+/nOs8Aom33367WtlOPfXUdOWVV6ZHHnkkffTRRzk4CfFv1FU5+IhH3LMQwUOUMcp71lln5eDxjDPOqBz3qquuyuU/+eST07Bhw9JMM82U71VVsc/RRx+d94t7eeKJJ+b7G58XAACKo6niDbGGWCOINQAA2pYOpRjL3UD9+/fPjcbIdKnq119/TYMGDcqNvfqITKgRI0bk4KCcHRON5Mi+Kfvkk0/SjDPOmN58882cXRPviaAm9gvxc48ePXL2VjS8QwQ8EexEozgyk8YmsocisKgt4ysW74ssqGh0R5bOuMrXu3fvNPnkk6ehQ4empZdeurJPZPpEAzyCsMgWWmmllXJjfYsttsivf/fdd2mGGWbIDe2aQVVNsU9kiT311FM5eym88cYbOWPo6aefzoHBqquumlZZZZV0+OGHV97373//Ox1yyCGVOYgjcyky0Ko25qPRH5lLsW9NETDEa/HvdNNNV9ke54pzRqO+XLZ33nknzTbbbPn1yF6Kz0vck/I8txEYRfbX2ESwEnUUAV2I+7jYYovlKQfKlltuufTzzz9XFleMrLkBAwakrbbaqrJP3LM777wzPfHEE7WeJzLC4lEWn8e4n332viB17NJ1rGWkcYYN6tfSRQAAGinaStH2/vHHH1P37t2b7TxNEW+INcQaLR1rBPEGYyM2AoDGxRuNWlMjhhf/85//HCPIiMZ0vFbfTo2w6KKLVn5+6aWX0oMPPpiHEtf07rvv5kAjxFDqso4dO6YpppgiLbDAApVtMVQ7fPXVV+M8f2RebbLJJpWsqxjeXs7oqWlc5Yvsp6iD1VZbbYz5eyPjqqqqgUgEJ3PNNVfO+KnvAokxbLsshj7HUOx4fzT6o5yRVVU1WyoCst9++y2Xr3zfouFeVTTYd91111rPGRlWcYzyPSiLBnrUf1kcuxxkhAj46nMfrrvuunT22WfneozgIYavV/3gRiC3xx57VHtPXOsDDzyQf44pAeK9O++8c7VriOPEL0JdItstPrMAALQeTRVviDXEGi0ZawTxBgBA02tUp0YM7ojsm5qigRuN5oaI+VLLooEZQ6Nj2G9NVYeZ11xkLspSdVu5bDFUfVxiztoPP/wwZ9jcd999Oetozz33zNk7NY2rfOW5amNodcwFW1WXLl3S+BLljIZzZJTVFPO/1lb3IeblHdsxI6iL4djxb1VVA6/a7s24BgNFllvMNRxljjl7IzCIzKkYMl9fUb4QQ8nLWWVlNctbVWSYHXDAAWNkTgEA0HKaKt4QazQ9sUb9Y40g3gAAaOFOjVgsr7zoWmTRVA00IrMmGnuRUdVYsdjcjTfemGaeeeacITS+xDyz22+/fX4sv/zyeQ7a2gKNcZVv3nnnzQFFDJteccUVx3rOGNIdc7WWFxB866238rDu+oiMoBgqXZ6DNjKLYph1+f1RztgWQ6QbIrLSYm7bGNZdU2R/xT2OTKioo8aKOY3jOFXFcO0YTn/EEUdUtkXwV1Vkl8WcwDF/b1k8r5oxF0PV33vvvRy01Ffcr/EZBAIA0DLxhlhDrDG+Y40g3gAAaHoNas2feeaZORMmFnqLTJeqQ22jARkN8KpDnRsqspYi+yXmKY05WSMLK+ZMjUyawYMHjzMLpjFi6HoMS59vvvny8Obbb7+9zgb/uMoXC9DF3L+xYF9kbsU8rDH/VwzPjuHNEciUxdyvMZQ6GsjRwI65dmM4en1EhlIsWhhDqCPgiUX1Yh7YcuAR17TuuuvmQGbTTTdNE0wwQc5qi+yumPe1Lsccc0zOHosh3bEYYAQ0kVV26KGH5qAyGvDR0I+spgg8vv766xyYRICyzjrr1Kvs8RmJeYIjEIrrj8/QHHPMkYOzqMcY6h7ZZzfffHO198X1xlDvGMYeQ/ZjCHksIBhz75bFZ3KfffbJx4wFAuN+RkAWgVzV7CgAAFqn5ow3xBpiDbEGAEA77NQoN5RjQbto7NUc/vt3RfZLNMqjYRtzzkZDMbJqotEYjeXmEMFRDAmOhfpiSHRkBkWDt7Hli8XjIhsr5k6NTJ6Yfzaymf7v//6v2rEGDhyY9t133/T222/nhQFvu+22XJb6iLlkowxbb711+vTTT3OZL7nkksrrMaw6AqYIZmL4etynmAs3FhEcm1gY8T//+U++hihfBEcrrLBC5fXLLrssByoHHnhgPm8ERxHgRFBTXxEsxAKGETBEpl3MGxwLKEZwFgFT1GkELUcddVQ69thjK++LICfqMwK5mK83FjmMhQCfeeaZyj5xfVE3sXhkZMDFkPeY/zgWKQQAoPVrznhDrCHWEGsAALQNHUrjmoR0HKLRF4vTVTW2lcnbu2hkr7TSSjmjJ4KQhhoyZEhuOMcQ8PYuFkmcZppp0pVXXtlkx4w5biP7qs/eF6SOXeqe95fGGzbof8P6AYBiKbeVYoTA+GrzizfqT6zRumONIN6gKrERADQu3mjUZLIjR47MQ6Kvv/769O23347xes15TOHvis/cBRdckDPDYmqAa665Jg0dOjQvuAgAQNsi3mB8EmsAABRLo8ZZx3DbBx54IJ1//vl50bOY4zXmGI0h01dccUVqTWIhwW7dutX6+DuLmjeXtdZaq87ynnjiiam9ikUiY87dGKIe8xLHEPpYSHHVVVdt6aIBANDEihJviDXaBrEGAEA7mH4qFoWLYCLmRY1hIM8//3yaffbZ89DcyGqJBmFr8dVXX+VhK7WJsk899dSpNYn5Y3/99ddaX4vFAuNB8zEcvPkZYg0AxTW+pp8qSrwh1qChxBtUJTYCgPE4/dR3332XZp111vxzHDyeh+WWWy7tvvvuqTWJQKK1BRNjM/3007d0EQAAoEUVJd4QawAAQEGmn4oA4/33388/zz333Hmu2xDDdBuzIB0AAECZeAMAAGjSTo0dd9wxvfTSS/nnww47LP3rX/9KE000Udp///3z/LcAAACNJd4AAACadPqpCCbKYvG0N954Iw0bNizPc7vgggs25pAAAACZeAMAAGjSTo2qfvvtt9S7d+/8AAAAaEriDQAA4G9PPzVq1Kg0YMCAvNBct27d0nvvvZe3H3XUUemSSy5pzCEBAAAy8QYAANCknRonnHBCGjJkSDrllFNS586dK9vnn3/+NHjw4MYcEgAAIBNvAAAATdqpccUVV6SLLroobbPNNqljx46V7X369Mnz3QIAADSWeAMAAGjSTo1PP/00L9JX0+jRo9Off/7ZmEMCAABk4g0AAKBJOzXmnXfe9Oijj46x/YYbbkgLL7xwYw4JAACQiTcAAIC6dEqNcPTRR6ftt98+Z1BFttRNN92U3nzzzTxM/Pbbb2/MIQEAADLxBgAA0CQjNd57771UKpXSBhtskG677bY0dOjQNMkkk+Sg4/XXX8/bVltttYYcEgAAIBNvAAAATTpSY4455kiff/55mnrqqdPyyy+fJp988jR8+PDUq1evhhwGAABgDOINAACgSTs1Imuqqrvuuiv98ssvDTkEFMIjx2+Vunfv3tLFAABoV8QbtBfiDQCA8bxQeF1BBwAAQFMRbwAAAH+rU6NDhw75UXMbAADA3yXeAAAAmnz6qR122CF16dIlP//tt9/SP//5z7x4X1U33XRTQw4LAAAg3gAAAJq2U2P77bev9nzbbbdtyNsBAADqJN4AAACatFPjsssua8juAAAA9SbeAAAAmnWhcAAAAAAAgPFFpwYAAAAAAFAIOjUAAAAAAIBC0KkBAAAAAAAUgk4NAAAAAACgEDq1dAGgNVrhyGtSxy5dW7oYbdKwQf1auggAANCixBvtl3gIAP4+IzUAAAAAAIBC0KkBAAAAAAAUgk4NAAAAAACgEHRqAAAAAAAAhaBTAwAAAAAAKASdGgAAAAAAQCHo1AAAAAAAAApBpwYAAAAAAFAIOjUAAAAAAIBC0KkBAAAAAAAUgk4NAAAAAACgEHRqAAAAAAAAhaBTAwAAAAAAKASdGgAAAAAAQCHo1AAAAAAAAApBpwYAAAAAAFAIOjXGsw4dOqRbbrllvJzroosuSjPOOGOaYIIJ0plnnjlezgkAALQc8QYAAG1dp5YuQHvz+eefp8kmm6zZzzNixIi01157pdNPPz1tsskmqUePHs1+TgAAoGWJNwAAaOt0ajShP//8M0044YRj3WeaaaYZL2X56KOPcnnWWWedNO2009a6zx9//JE6d+48XsoDAAD8PeINAABo49NPjR49Op100klplllmSV27dk19+vRJN9xwQyqVSmnVVVdNa6yxRv45fPfdd2mGGWZIRx99dOX9gwcPTvPMM0+aaKKJ0txzz53OO++8ymsffPBBHtp93XXXpRVXXDHvc9VVV+XXLr300jTffPOlLl265AZ+ZDDVNhw8GvnxWuwT7+/du3cub9kPP/yQdtlllzTVVFOl7t27p5VXXjm99NJL47zuIUOGpAUWWCD/POuss+ZzRnmPPfbYtNBCC+XrijqJc9b3PAMHDky9evVKk046adp5553TYYcdlo9V1rdv37TffvtVe8+GG26Ydthhh8rz33//PR100EFp+umnT5NMMklacskl00MPPVSt3D179kz33HNPrvdu3bqlNddcM2ebVVVX/e60005p3XXXrbZvBFpTTz11uuSSS8ZZbwAA0BDiDfGGeAMAYPxr050a0WC/4oor0gUXXJBeffXVtP/++6dtt902PfLII+nyyy9Pzz77bDr77LPzvv/85z9z47ccZETAED+fcMIJ6fXXX08nnnhiOuqoo/L7qorG9r777pv3iaDl/PPPT3vuuWfabbfd0vDhw9Ott96aZp999lrLF+eO16+//vr05ptv5nPOPPPMldc322yz9NVXX6W77rorDRs2LC2yyCJplVVWyQHR2GyxxRZp6NCh+ednnnkmN9JjrtvwzjvvpBtvvDHddNNN6cUXX6zXeaJ8EaBEHTz33HO5YV814KqvCAaefPLJdO2116aXX345nzeCiLfffruyz8iRI9Opp56arrzyynyfIgMsApOysdVvBEp33313taDk9ttvz8eMOgEAgKYk3hBviDcAAMa/Njv9VGTpRKM4GttLL710JYvoscceSxdeeGG6+uqr87/9+vVLX3zxRbrzzjvTCy+8kDp1+v9Vcswxx6TTTjstbbzxxvl5ZBq99tpr+T3bb7995TyRLVTeJxx//PHpwAMPzIFH2eKLL15rGaMBPcccc6TlllsuZzdF5lRZlDMChGj8R4ZQiMZ3ZF1F9lc0susSWWJTTDFF/jmyoaoOQY9srQi8Ynt9zxOL/kW2VDzK1xj1+ttvv9X7fsS1XnbZZfnf6aabLm+L4CGCgtge96qc6RRB4WyzzVYJTPr371+v+l1mmWXSXHPNlQOUQw45JG+LY0cwE1lYdX1O4lF1bmAAABgX8YZ4I4g3AADGvzbbqREZQpExs9pqq1XbHo3shRdeOP8cjc+bb745D3WOjJxo8Idffvklvfvuu7lRveuuu1be+9dff42xAN5iiy1W+Tka6p999lnOOqqPGCod5YuGcWQQxVDm1VdfPb8Ww7F//vnnSrBQ9uuvv+ayNVYEMuUAo77niaywyCyrKgK3Bx98sN7njSynUaNGpTnnnLPa9mjgVz33xBNPXAkwQmRpRb3Wt34je+qiiy7KQcaXX36Zs8EeeOCBsWbXHXfccfW+DgAACOKN2ok3qhNvAAA0vTbbqREN53DHHXfkYd5VlTOEIgiJ4c8dO3asNiS5/N6LL744z8NaVexbVczVWjVjqSFi2PX777+fG8KRibT55pvnuXcjYynKEA3sqnPAlsU8sI1Vtbyhqc4zwQQTVOYLLossqKrnibor13dVVbOaai58GBll5ePWp34jEy6G6Mew8yeeeCJnvC2//PJ17n/44YenAw44oFrmVHnoPAAA1EW8UTvxRnXiDQCAptdmOzXmnXfeHEzE8ONYWK82Maw4GsfRyF977bXTOuuskxetiwXqYsjye++9l7bZZpt6nzMWtYs5au+///600kor1es9sVBezL8aj0033TRnUMXcshGAxDD1GJ5edd7bplaf88Qiek8//XRuwJc99dRT1faJbKyqc8tGltQrr7xSqYfIVottkf00tkb/363fyMKKBQNjGHgEGjvuuONYjxmfkXLQCQAA9SXeqB/xhngDAKCptdlOjWiQxhyqsVjf6NGj8zyyP/74Y3r88cdzw37KKadMl156aW6IRkP74IMPznPXxoJyk002WR4ivM8+++Th39Hwj2HLsWjd999/Xy3TpqZY4C6GTk899dRprbXWSj/99FM+59577z3GvqeffnrOWooGeAQ7//nPf/J8tJGxFBlUMeQ6GsynnHJKHkYdQ6EjE2yjjTaqNgz976jPeWI+2Ri6Hj8vu+yyeYHBWAgx5gwui+As6iXeF8O549p++OGHyutx3AjYIlCJuYPjmr/++uscMCy44II5wKuP+tRvDAmPofUR1FSdjxgAAJqKeKN+xBsAADS1NtupEQYMGJAzemIe08iCisZ7BBQxBDgylaLBGs9DBBX33ntvbsBed911uaEa860OGjQoByAxjHqBBRbIC/WNTTRqY0G7M844Iwc5EcxERlRdgVA07GMoegyRjgXoYgHBCDhC/HzEEUfk7J9okEcAssIKK+TMrqYSw63HdZ6oq5jvNuaNjWvbZJNN0u67757uueeeynF22mmnPF9uBBGRhRXBXc3spshmKi+89+mnn+a6WWqppXJAUF/1qd8InCJ4m2+++SqLBAIAQFMTb4ybeAMAgKbWoVRzYlKohwjQbrnllvTiiy+m1ibm0415jSOo2XjjjRv03pjjNrLl+ux9QerYpWFzFlM/wwb9b1oBAKBYym2lGJEQoxGguYg3aKvEQwDw9+ONNj1Sg/Ylhv1/8803ebh5ZMmtv/76LV0kAACgjRBvAAC0Dv9/3DGFE0Odu3XrVusj5qBtj2KRxhjCfvXVV+f5i2NYOgAA0HDijTGJNwAAWgfTTxXUhx9+mP78889aX4uGdsyfS8MZDt78DLcGgOIy/VT7Id5oHuINxEMAUDfTT7VxvXv3bukiAAAAbZR4AwCA1sr0UwAAAAAAQCHo1AAAAAAAAApBpwYAAAAAAFAIOjUAAAAAAIBC0KkBAAAAAAAUgk4NAAAAAACgEHRqAAAAAAAAhaBTAwAAAAAAKASdGgAAAAAAQCHo1AAAAAAAAApBpwYAAAAAAFAIOjUAAAAAAIBC6NTSBYDW6JHjt0rdu3dv6WIAAABtkHgDAKDxjNQAAAAAAAAKQacGAAAAAABQCDo1AAAAAACAQtCpAQAAAAAAFIJODQAAAAAAoBB0agAAAAAAAIWgUwMAAAAAACgEnRoAAAAAAEAh6NQAAAAAAAAKQacGAAAAAABQCJ1augDQGq1w5DWpY5euLV2MVmPYoH4tXQQAAGgzxBvjn5gGANoOIzUAAAAAAIBC0KkBAAAAAAAUgk4NAAAAAACgEHRqAAAAAAAAhaBTAwAAAAAAKASdGgAAAAAAQCHo1AAAAAAAAApBpwYAAAAAAFAIOjUAAAAAAIBC0KkBAAAAAAAUgk4NAAAAAACgEHRqAAAAAAAAhaBTAwAAAAAAKASdGgAAAAAAQCHo1AAAAAAAAApBpwYAAAAAAFAIOjXGsx122CFtuOGGqbWbeeaZ05lnntli5x8yZEjq2bNni50fAACKSLxRP+INAIDi0qlBqwxotthii/TWW2+1WJkAAIC2QbwBANC2dGrpAtA2lUqlNGrUqNSpU+M+Yl27ds0PAACAmsQbAADtl5EazeSGG25ICyywQG4oTzHFFGnVVVdNv/zyyxj7jR49Op100klplllmyfv26dMnv7eqV155Ja211lqpW7duqVevXmm77bZL33zzTeX1vn37pr322is/evTokaaccsp01FFH5YZ+fXz11VdpvfXWy+ePclx11VXVXv/ggw9Shw4d0osvvljZ9sMPP+RtDz30UH4e/8bzu+66Ky266KKpS5cu6bHHHkvvvvtu2mCDDXK5o/yLL754Gjp0aLWyf/jhh2n//ffP749HXcPBzz///DTbbLOlzp07p7nmmitdeeWV1V6P9w4ePDhttNFGaeKJJ05zzDFHuvXWW+tVBwAAUCTiDfEGAEB7pVOjGXz++edpq622SjvttFN6/fXXcwN84403rrXRHwHGFVdckS644IL06quv5sb2tttumx5++OFKY37llVdOCy+8cHruuefS3Xffnb788su0+eabVzvO5ZdfnrOUnnnmmXTWWWel008/PTe46zvv7scff5wefPDBHOCcd955OfBojMMOOywNHDgwX/eCCy6Yfv7557T22mun+++/P73wwgtpzTXXzAHNRx99lPe/6aab0gwzzJD69++f6y0etbn55pvTvvvumw488MAcdP3jH/9IO+64Yy5zVccdd1yum5dffjmfd5tttknfffddo64FAABaI/GGeAMAoD0z/VQziIbyX3/9lQOL3r17522RRVXT77//nk488cScSbT00kvnbbPOOmvOOLrwwgvTiiuumM4999wcYMR+ZZdeemmaccYZ8xywc845Z94Wz88444ycPRRZRcOHD8/Pd91117GWNY4R2U4RnERWU7jkkkvSPPPM06hrj2BhtdVWqzyffPLJczZY2YABA3LAEBlNkekVr3fs2DFNOumkaZpppqnzuKeeemoOhvbYY4/8/IADDkhPPfVU3r7SSitV9ot9IsALUWdnn312vrYIbmoT9yAeZSNGjGjUdQMAwPgi3hBvAAC0Z0ZqNINoVK+yyio5sNhss83SxRdfnL7//vsx9nvnnXfSyJEjc6M8hkqXH5FJFcOow0svvZSzg6q+Pvfcc+fXyvuEpZZaqjKUOkTQ8vbbb+d5ZscmMpwi4yqGcJfF8WsOxa6vxRZbrNrzyJw66KCDctASx4zyxznLmVP1Fe9Zdtllq22L57G9qsjWKptkkklS9+7dx5oFFplrMYS+/IhgDQAAWjPxxv+INwAA2h8jNZpBZALdd9996Yknnkj33ntvOuecc9IRRxyRnn766TEa4OGOO+5I008/fbXXYo7Y8j4xfPrkk08e4zzTTjttGh8mmOD/931VHc7+559/1rpvNOyrigAj6iIynGafffY8j+6mm26a/vjjj2Yp64QTTljteQReMY9wXQ4//PCchVU1c0qgAQBAaybe+B/xBgBA+6NTo5lE4zYye+Jx9NFH52HhMQy6qnnnnTcHE5FFFEO/a7PIIoukG2+8Mc0888w5w6kuNQOYGCodC9dFwDM2kSUVQ9eHDRtWGQ7+5ptv5rl1y6aaaqrKMPcYmh6qLuI3No8//ngeoh2L6ZWDplgIsKpYiG9cGV6ReRXH2n777asdO+rw74j6Lwd0AABQFOKN/0+8AQDQ/ujUaAbR4I+F6lZfffU09dRT5+dff/11bijHgnJlMa9rZBbFYn2R3bPccsulH3/8MTeeYxhzNKj33HPPPJw85m095JBD8pywMYz82muvzQvzlYOICFQiAygWtHv++edzttZpp502zrLGfLgx/2u87/zzz8+BzH777ZcznMri5xhuHgvyzTLLLHl49ZFHHlmvuohAJxbni+yvCLyOOuqoMTKZIoB65JFH0pZbbpkb/FNOOeUYxzn44IPzgnwR5Ky66qrptttuy8eN+YEBAKA9EW/8j3gDAKD9saZGM4gAIRrNa6+9dl5YLxrk0eBfa621xtg3FrKLhnfMtRpBSDT4Y3h4NObDdNNNl4OOyCyKoCXmzY0gIOaLLQ/TDv369Uu//vprWmKJJXJgsu+++6bddtutXuW97LLL8nkieysWG4z3RXBUVSwWGBlWMRdunP/444+v17FPP/30NNlkk6VlllkmBxprrLFGzgarudhfZFPNNttslSytmjbccMN01lln5WHl8803X17YMMrdt2/fepUDAADaCvHG/4g3AADanw6lqhOXUkjR0F5ooYXSmWee2dJFKbyY4zYW8Ouz9wWpY5f/ZY+1d8MG9WvpIgAAraitFNn+8cU67YN4o+mIN1qOmAYA2k68YaQGAAAAAABQCDo12rhHH300devWrc4HAABAY4k3AAAY3ywU3gY89NBDdb622GKLpRdffHG8lgcAAGg7xBsAALQmOjXauK5du6bZZ5+9pYsBAAC0QeINAADGN9NPAQAAAAAAhaBTAwAAAAAAKASdGgAAAAAAQCHo1AAAAAAAAApBpwYAAAAAAFAIOjUAAAAAAIBC0KkBAAAAAAAUgk4NAAAAAACgEHRqAAAAAAAAhaBTAwAAAAAAKASdGgAAAAAAQCHo1AAAAAAAAAqhU0sXAFqjR47fKnXv3r2liwEAALRB4g0AgMYzUgMAAAAAACgEnRoAAAAAAEAh6NQAAAAAAAAKQacGAAAAAABQCDo1AAAAAACAQtCpAQAAAAAAFIJODQAAAAAAoBB0agAAAAAAAIWgUwMAAAAAACgEnRoAAAAAAEAhdGrpAkBrtMKR16SOXbqmtmLYoH4tXQQAAKCNxhtNTfwCAIyNkRoAAAAAAEAh6NQAAAAAAAAKQacGAAAAAABQCDo1AAAAAACAQtCpAQAAAAAAFIJODQAAAAAAoBB0agAAAAAAAIWgUwMAAAAAACgEnRoAAAAAAEAh6NQAAAAAAAAKQacGAAAAAABQCDo1AAAAAACAQtCpAQAAAAAAFIJODQAAAAAAoBB0agAAAAAAAIWgUwMAAAAAACiENtepcdFFF6UZZ5wxTTDBBOnMM8+sc9u4dOjQId1yyy3NXFrq8tBDD+V78MMPP7R0UQAAoEK80TaINwAAiqtTakNGjBiR9tprr3T66aenTTbZJPXo0aPWbfXx+eefp8kmm6zZy0xKffv2TQsttFC1AHCZZZbJ96C+9wsAAJqbeKOYxBsAAG1Lm+rU+Oijj9Kff/6Z1llnnTTttNPmba+88soY2+pjmmmmacaSMi6dO3d2DwAAaFXEG22HeAMAoLha3fRTo0ePTqecckqaffbZU5cuXdJMM82UTjjhhPzaoYcemuacc8408cQTp1lnnTUdddRROYAIQ4YMSQsssED+OV6LocS1bfvggw/y8//+979pkUUWSRNNNFF+7bjjjkt//fVXrcPB4z3x/KabbkorrbRSPn+fPn3Sk08+Wa3sjz32WFp++eVT165d8/DzffbZJ/3yyy/1uu7ff/89X1+8L647rv+SSy6pvP7www+nJZZYIr8WwdJhhx1WrbyRfRTnO+SQQ9Lkk0+eG+jHHnts5fVSqZSfR33GMaabbrq8f23XW9azZ89ch1Xr4Prrr69c4+KLL57eeuut9Oyzz6bFFlssdevWLa211lrp66+/rhxjhx12SBtuuGGu36mmmip17949/fOf/0x//PFH5fW4trPOOisfv3yPahsOfuONN6b55psvl3/mmWdOp512WrXyxrYTTzwx7bTTTmnSSSfN1xpTAQAAQJl4Q7wh3gAAKLZW16lx+OGHp4EDB+YA4rXXXktXX3116tWrV34tGo7R6I3t0Si9+OKL0xlnnJFf22KLLdLQoUPzz88880weSrzZZpuNsS0a8Y8++mjq169f2nffffOxLrzwwnzccjBTlyOOOCIddNBB6cUXX8zBzlZbbVVp6L/77rtpzTXXzEPOX3755XTdddfloCOGotdHlOeaa65JZ599dnr99ddzmaLRHj799NO09tpr50b9Sy+9lM4///wcgBx//PHVjnH55ZenSSaZJD399NM5UOvfv3+67777Kg30qKs47ttvv50DinIA1hDHHHNMOvLII9Pzzz+fOnXqlLbeeusc2MT9iHp955130tFHH13tPffff3++pggc4hojWIugI8T7ll566bTrrrvm+1O+RzUNGzYsbb755mnLLbdMw4cPzwFTfEbKQVBZBB4R8Lzwwgtpjz32SLvvvnt68803G3ydAAC0TeIN8YZ4AwCg2DqUIqWmlfjpp59yds25556bdtlll3Huf+qpp6Zrr702Pffcc/l5NP4XXnjh9P777+csmrq2rbrqqmmVVVbJAU3Zv//979xY/uyzz/LzyNq5+eabc9ZPZPLMMsssafDgwWnnnXfOr0dwElk80Xiee+65c3k7duyYG/FlEWSsuOKKOXsqMrTqEtlHc801Vw4Iomy1BTcRJMS5olzhvPPOy5lWP/74Y16QMDKnRo0alRv6ZZFptfLKK+egLeb4jbLF8PgJJ5xwjHNUvd6qmVMx72xkN9VWB1H3EWhFEBHnCXGuaPi/8cYb+Xm897bbbksff/xxzjgLF1xwQTr44IOrlb3mHLcRkESW2vfff5/Lsc022+SMrHvvvbeyT9yvO+64I7366qv5edzfyOq68sor8/P4aEcGWQQ0ka1VV8ZaPMpiTuQIcvrsfUHq2KVraiuGDerX0kUAANqAaCvFGgTRjouM+KIRb4g3ysQbrZv4BQDapxH1jDda1UiNaERHgy8CgNpENtKyyy6bG46RVRQZPDGvbUNF9lFkFcUxyo9y5s7IkSPrfN+CCy5Y+bk8X+5XX31VOWY0rqsec4011sjD2yPAGZsIhCJAiYCkrnqJ7KJygBGiHn7++ef0ySef1Fq+chnL5Ysssl9//TUPfY9rjYCi6nDy+qp6jnJGW9UMrNhWPmdZDJ0vBxghriXKHoFHfUUdxDVXFc8jCyyCq9rKF/UVn5Wa5anqpJNOyr8o5UdtWVsAALQN4g3xRl3EGwAAxdGqOjVi3tS6xHyykT0Tw6Jvv/32PNw3MorKc6U2RDRwI5smGvflRwwxjgbr2DKcqmYclRv8EUSUj/mPf/yj2jEj8IhjzjbbbI2+7oaomREVZSyXLxrPMSw6Mq7ifDFUeoUVVqjMERz71hy0U35tXHVQc1v5nC1hbHVQm8iei56/8qMhgQ8AAMUi3vh7xBviDQCA1qBTakXmmGOO3ACO4cU1h4M/8cQTqXfv3jmwKPvwww8bdZ5YsC8a3LE4XlOJY8YQ8cYcMzKPoiEcC9jVNhx8nnnmycPBIwgoN+wff/zxPOfvDDPMUO/zRN2ut956+bHnnnvmYewRXEXZYxh+ZI6VRXA0tiyyhohgK7K2ysHUU089lTPLyllKnTt3rpb9VJuog7jmquJ5zDUcWWeNFYsAxgMAgLZPvCHeqIt4AwCgOFpVp0ZkLcW8rTF3aTQ8Y7hvzGsac5hGABJDv2Ne1VjALuY2jSHNjRELy6277rpppplmSptuummeZzUawjH/a83F8Ooryr3UUkvlhfoiQIoF9CLoiHlrY87esYm5Wbfffvu000475YX7Yvh0BFAxjDkWq4ssp5j/de+9987HjwApFtA74IADctnrI4aqR0N+ySWXzEOzY07faPRH4BZijtooZwzVjv3iemqbC7cxIrst5sWN4fsxV26UPa6jXPa4/lhsMF6L4GPyyScf4xgHHnhgvu8DBgzIizRGJl2UNzLBAACgPsQb4g3xBgBA8bWq6afCUUcdlRuUEQhEtkw0KKOxvf7666f9998/N05jkbfIpIp9GyPmno0h5bEIXDRcIzg444wzKg3uxoi5VSPzKRbhi8XjYrHAuIbpppuuXu8///zzc8ATAUVkNMU8tLHgX5h++unTnXfemZ555pkcgMQidOVGe33F4ncXX3xxDtyirEOHDs0L6k0xxRT59dNOOy1nMkXZt95663TQQQdVm5f274g5iyNIjOHncT/jXh577LGV1+Nckf0077zz5gyu2uYtjuyu66+/PgeZ888/f67bmKc4FgYEAID6Em+IN8QbAADF1qFUc2JTaEIRBPzwww/plltuSUUwYsSIvIBfn70vSB27NM3cw63BsEH9WroIAEAbUG4rxdoA3bt3b+nigHijjRK/AED7NKKe8UarG6kBAAAAAABQG50a48Gjjz6a526t6wEAANBY4g0AANqTVrVQeFu12GKLpRdffDG1R7FgIAAA0HzEGwAAtCc6NcaDrl27ptlnn72liwEAALRB4g0AANoT008BAAAAAACFoFMDAAAAAAAoBJ0aAAAAAABAIejUAAAAAAAACkGnBgAAAAAAUAg6NQAAAAAAgELQqQEAAAAAABSCTg0AAAAAAKAQdGoAAAAAAACFoFMDAAAAAAAoBJ0aAAAAAABAIejUAAAAAAAACqFTSxcAWqNHjt8qde/evaWLAQAAtEHiDQCAxjNSAwAAAAAAKASdGgAAAAAAQCHo1AAAAAAAAApBpwYAAAAAAFAIOjUAAAAAAIBC0KkBAAAAAAAUgk4NAAAAAACgEHRqAAAAAAAAhaBTAwAAAAAAKASdGgAAAAAAQCF0aukCQGu0wpHXpI5dutZ7/2GD+jVreQAAgPYbbzQlsQsAUHRGagAAAAAAAIWgUwMAAAAAACgEnRoAAAAAAEAh6NQAAAAAAAAKQacGAAAAAABQCDo1AAAAAACAQtCpAQAAAAAAFIJODQAAAAAAoBB0agAAAAAAAIWgUwMAAAAAACgEnRoAAAAAAEAh6NQAAAAAAAAKQacGAAAAAABQCDo1AAAAAACAQtCpAQAAAAAAFIJODQAAAAAAoBB0arRzO+ywQ9pwww1TEQ0ZMiT17NmzpYsBAADUQbwBAEBT06kBAAAAAAAUgk4N/pZSqZT++uuvli4GAADQBok3AACoSadGK/HTTz+lbbbZJk0yySRp2mmnTWeccUbq27dv2m+//fLrv//+ezrooIPS9NNPn/dZcskl00MPPTTG0Oh77rknzTPPPKlbt25pzTXXTJ9//nlln1GjRqUDDjgg7zfFFFOkQw45JAcJVY0ePTqddNJJaZZZZkldu3ZNffr0STfccEPl9Thnhw4d0l133ZUWXXTR1KVLl/TYY4+N9dqOPfbYtNBCC6VLL700zTTTTLlse+yxRy7PKaeckqaZZpo09dRTpxNOOKHa+04//fS0wAIL5OudccYZ83t+/vnnsZ7rv//9b1pkkUXSRBNNlGadddZ03HHHCYIAAGj3xBviDQCAtkKnRisRjf/HH3883Xrrrem+++5Ljz76aHr++ecrr++1117pySefTNdee216+eWX02abbZaDiLfffruyz8iRI9Opp56arrzyyvTII4+kjz76KAcmZaeddloORqKxH4HBd999l26++eZq5YgA44orrkgXXHBBevXVV9P++++ftt122/Twww9X2++www5LAwcOTK+//npacMEFx3l97777bg5M7r777nTNNdekSy65JK2zzjrpk08+ycc++eST05FHHpmefvrpynsmmGCCdPbZZ+dyXH755emBBx7IgVFdos769euX9t133/Taa6+lCy+8MF9vzeAFAADaG/GGeAMAoK3oUKqZOkOLZE1FJtPVV1+dNt1007ztxx9/TNNNN13addddcwASWUARNMS2slVXXTUtscQS6cQTT8yN6R133DG98847abbZZsuvn3feeal///7piy++yM/jvRE0HHzwwfl5ZBRFhlRkQN1yyy05O2vyySdPQ4cOTUsvvXTlPLvssksOYKJ8kTm10kor5f032GCDel1fZE4NGjQol2PSSSfN2yJAevPNN3PwEcFEmHvuufNCghHA1CYyuP75z3+mb775Jj+Pa47Msh9++KFSH6ussko6/PDDK+/597//nQOTzz77rNZjxjXHo2zEiBE5S6vP3hekjl26pvoaNqhfvfcFACiqaCv16NEjt1W7d+/e0sWhnsQbxY83mpLYBQAoerzRabyWilq999576c8//8wBQ1ncvLnmmiv/PHz48Dx0es4556z2vmgcR3BSNvHEE1cCjBDDyr/66qv8c3wQYmh4DCMv69SpU1psscUqQ8IjQIlgYrXVVqt2nj/++CMtvPDC1bbF+xpi5plnrgQYoVevXqljx46VAKO8rVzeEMFOZHK98cYb+QMdQdFvv/2WyxjXWtNLL72Us8+qZkpFvY3tPXH8GDIOAABtlXjjf9vEGwAAxadTowBiXtdokA8bNiz/W1XMF1s24YQTVnst5qJtyECc8vyxd9xxR55Lt6qYy7aqmHe2IWorW23bYo7d8MEHH6R111037b777jloiIyuGMK+884756CntoAhyh8Bw8YbbzzGazHnbW0iyyoy02pmTgEAQHsh3hBvAAAUiU6NViCGekeD+9lnn80L25Uznd566620wgor5KylyACKrKLll1++UeeITKzIpIo5ZOOYITKRInCJhe7CvPPOm4OJGHa+4oorppYU5YqAI+blLWdXXX/99WN9T1xHDDGfffbZ632euN6aARQAALQl4o0xiTcAAIpLp0YrEMOkt99++zz3bGQITT311OmYY47JjevIJoph4Ntss01elC4a3RF0fP311+n+++/Pi+bFAnj1EQvaxWJ7c8wxR55P9vTTT6/MD1suRyz0F/PgRgN/ueWWy8FODLGOOcyijONLBAoxRP6cc85J6623Xi5DLCY4NkcffXTOtopALeYKjvqLIeKvvPJKOv7448db2QEAoDURb4xJvAEAUFz/m2CUFhUN/lgsLxrJsQDdsssum+aZZ57KMObLLrssBxkHHnhgnvt2ww03rJZpVR/x3u222y4HC3GuCCo22mijavsMGDAgHXXUUXnu1zh/LLAXw8Njgb/xqU+fPrlOTj755DT//POnq666KpdpbNZYY410++23p3vvvTctvvjiaamllkpnnHFG6t2793grNwAAtEbijerEGwAAxdWh1JBJUBlvfvnllzzPbGRKxbyujB8xx20Mne+z9wWpY5eu9X7fsEH9mrVcAACtqa0U2fWRWU9xiTeKFW80JbELAFD0eMP0U63ECy+8kN544420xBJL5JvWv3//vH2DDTZo6aIBAAAFJ94AAKCtMP1UK3LqqafmYdAxHDwypx599NE05ZRTptZuvvnmS926dav1EcO4AQCAlifeAACgLTBSo5WIxfiGDRuWiujOO+/Mi+zVplevXuO9PAAAQHXiDQAA2gqdGvxtFsYDAACai3gDAICqTD8FAAAAAAAUgk4NAAAAAACgEHRqAAAAAAAAhaBTAwAAAAAAKASdGgAAAAAAQCHo1AAAAAAAAApBpwYAAAAAAFAIOjUAAAAAAIBC0KkBAAAAAAAUgk4NAAAAAACgEHRqAAAAAAAAhaBTAwAAAAAAKIROLV0AaI0eOX6r1L1795YuBgAA0AaJNwAAGs9IDQAAAAAAoBB0agAAAAAAAIWgUwMAAAAAACgEnRoAAAAAAEAhWCgcqiiVSvnfESNGtHRRAABanXIbqdxmAhpGvAEA8PfjDZ0aUMW3336b/51xxhlbuigAAK3WTz/9lHr06NHSxYDCEW8AAPz9eEOnBlQx+eST538/+ugjgXodvaURgH388cepe/fuLV2cVkf9jJs6Gjv1M3bqZ+zUz7ipo79fP5ExFQHGdNNNN97LB22BeKN5+PvefNRt81G3zUfdNh912zzUa8PjDZ0aUMUEE/z/ZWYiwGjvf0TGJupG/dRN/YybOho79TN26mfs1M+4qaO/Vz++iIXGE280L3/fm4+6bT7qtvmo2+ajbpuHeq1/vGGhcAAAAAAAoBB0agAAAAAAAIWgUwOq6NKlSzrmmGPyv4xJ/Yyd+hk3dTR26mfs1M/YqZ9xU0djp36g+fk9ax7qtfmo2+ajbpuPum0+6rZ5qNeG61CK1TcAAAAAAABaOSM1AAAAAACAQtCpAQAAAAAAFIJODQAAAAAAoBB0atCm/etf/0ozzzxzmmiiidKSSy6ZnnnmmbHu/5///CfNPffcef8FFlgg3XnnndVejyVojj766DTttNOmrl27plVXXTW9/fbbqciauo522GGH1KFDh2qPNddcM7WH+nn11VfTJptskveP6z7zzDP/9jHbW/0ce+yxY3x+4vPWHurn4osvTssvv3yabLLJ8iP+vtTcv73/DapPHbXnv0E33XRTWmyxxVLPnj3TJJNMkhZaaKF05ZVXtunPUFPXT3v+/FR17bXX5mvfcMMN2/TnB5qCeKP5iFOajxin+YiPmoe4qvmIx5qPWK6ZxULh0BZde+21pc6dO5cuvfTS0quvvlraddddSz179ix9+eWXte7/+OOPlzp27Fg65ZRTSq+99lrpyCOPLE044YSl4cOHV/YZOHBgqUePHqVbbrml9NJLL5XWX3/90iyzzFL69ddfS0XUHHW0/fbbl9Zcc83S559/Xnl89913pfZQP88880zpoIMOKl1zzTWlaaaZpnTGGWf87WO2t/o55phjSvPNN1+1z8/XX39dKqKG1s/WW29d+te//lV64YUXSq+//npphx12yH9vPvnkk8o+7f1vUH3qqD3/DXrwwQdLN910U/77/M4775TOPPPM/Df77rvvbpOfoeaon/b8+Sl7//33S9NPP31p+eWXL22wwQbVXmtLnx9oCuKN5iNOaT5inOYjPmoe4qrmIx5rPmK55qdTgzZriSWWKO25556V56NGjSpNN910pZNOOqnW/TfffPPSOuusU23bkksuWfrHP/6Rfx49enRuaAwaNKjy+g8//FDq0qVLboQUUVPXUfl/YDW/BCmqhtZPVb179661Ufp3jtke6ica7X369Cm1BX/3Xv/111+lSSedtHT55Zfn5/4GjbuOgr9B1S288ML5i522+Blq6voJ7f3zE79TyyyzTGnw4MFj1EVb+/xAUxBvNB9xSvMR4zQf8VHzEFc1H/FY8xHLNT/TT9Em/fHHH2nYsGF5KFbZBBNMkJ8/+eSTtb4ntlfdP6yxxhqV/d9///30xRdfVNunR48eeQhZXcdsb3VU9tBDD6Wpp546zTXXXGn33XdP3377bWoP9dMSx2wpzXktMXxyuummS7POOmvaZptt0kcffZSKpinqZ+TIkenPP/9Mk08+eX7ub9C466jM36D/PzT5/vvvT2+++WZaYYUV2txnqDnqp6w9f3769++fr33nnXce47W29PmBpiDeaD7ilOYjxmk+4qPmIa5qPuKx5iOWGz90atAmffPNN2nUqFGpV69e1bbH8/gjUJvYPrb9y/825JjtrY5CzJV4xRVX5D/AJ598cnr44YfTWmutlc/V1uunJY7ZUprrWuJ/yEOGDEl33313Ov/88/P/uGPOzp9++im1t/o59NBDc/BSbrT4GzTuOgrt/W/Qjz/+mLp165Y6d+6c1llnnXTOOeek1VZbrc19hpqjftr75+exxx5Ll1xySZ4ruTZt6fMDTUG80XzEKc1HjNN8xEfNQ1zVfMRjzUcsN350Gk/nAdqJLbfcsvJzLNC34IILptlmmy331K+yyiotWjZav2jslMVnJxrxvXv3Ttdff32tmcNt1cCBA/NCvfF7E4uKUf86au9/gyaddNL04osvpp9//jkHEgcccEDO6uvbt29LF60Q9dNePz/xxch2222XOzSmnHLKli4OQLNor3/jKTbx0d8jrmo+4rGmJ5ZrGCM1aJMiIO/YsWP68ssvq22P59NMM02t74ntY9u//G9Djtne6qg28Qc4zvXOO++ktl4/LXHMljK+rqVnz55pzjnnbFefn1NPPTU3EO+9997cACzzN2jcdVSb9vY3KIY1zz777GmhhRZKBx54YNp0003TSSed1OY+Q81RP+358/Puu++mDz74IK233nqpU6dO+REZdrfeemv+OV5vS58faArijeYjTmk+YpzmIz5qHuKq5iMeaz5iufFDpwZtUgzVWnTRRXPPZtno0aPz86WXXrrW98T2qvuH++67r7L/LLPMkv9QVN1nxIgR6emnn67zmO2tjmrzySef5PkTp5122tTW66cljtlSxte1RIZCfJnWXj4/p5xyShowYEAeXr7YYotVe83foHHXUW3a+9+geM/vv//e5j5DzVE/7fnzM/fcc6fhw4fnzLDyY/31108rrbRS/nnGGWdsU58faArijeYjTmk+YpzmIz5qHuKq5iMeaz5iufFkPCxGDi3i2muvLXXp0qU0ZMiQ0muvvVbabbfdSj179ix98cUX+fXtttuudNhhh1X2f/zxx0udOnUqnXrqqaXXX3+9dMwxx5QmnHDC0vDhwyv7DBw4MB/jv//9b+nll18ubbDBBqVZZpml9Ouvv5aKqKnr6KeffioddNBBpSeffLL0/vvvl4YOHVpaZJFFSnPMMUfpt99+K7X1+vn9999LL7zwQn5MO+20uS7i57fffrvex2zv9XPggQeWHnroofz5ic/bqquuWppyyilLX331Vamt10/8fencuXPphhtuKH3++eeVR/xeVd2nPf8NGlcdtfe/QSeeeGLp3nvvLb377rt5//hbHX+zL7744jb5GWrq+mnvn5+att9++/z5qKotfX6gKYg3mo84pfmIcZqP+Kh5iKuaj3is+Yjlmp9ODdq0c845pzTTTDPlP7pLLLFE6amnnqq8tuKKK+aAvarrr7++NOecc+b955tvvtIdd9xR7fXRo0eXjjrqqFKvXr3yH6dVVlml9Oabb5aKrCnraOTIkaXVV1+9NNVUU+Ugonfv3qVdd9210I3ZhtRP/E87+oprPmK/+h6zvdfPFltskRv0cbzpp58+P3/nnXdK7aF+4veltvqJoLysvf8NGlcdtfe/QUcccURp9tlnL0000USlySabrLT00kvnxnRVbe0z1JT1094/P/Xp1Ghrnx9oCuKN5iNOaT5inOYjPmoe4qrmIx5rPmK55tUh/jO+RoUAAAAAAAA0ljU1AAAAAACAQtCpAQAAAAAAFIJODQAAAAAAoBB0agAAAAAAAIWgUwMAAAAAACgEnRoAAAAAAEAh6NQAAAAAAAAKQacGAAAAAABQCDo1AAAAAACAQtCpAQAppR122CFtuOGGqTX64IMPUocOHdKLL77Y0kUBAAAaQbwB0HR0agBAK/bHH3+0dBEAAIA2SrwBFJFODQCooW/fvmnvvfdO++23X5pssslSr1690sUXX5x++eWXtOOOO6ZJJ500zT777Omuu+6qvOehhx7K2U133HFHWnDBBdNEE02UllpqqfTKK69UO/aNN96Y5ptvvtSlS5c088wzp9NOO63a67FtwIABqV+/fql79+5pt912S7PMMkt+beGFF87niPKFZ599Nq222mppyimnTD169Egrrrhiev7556sdL/YfPHhw2mijjdLEE0+c5phjjnTrrbdW2+fVV19N6667bj5fXNvyyy+f3n333crr8f555pknX9Pcc8+dzjvvvCasbQAAaF/EG+IN4O/RqQEAtbj88stz4/2ZZ57JAcfuu++eNttss7TMMsvkhvzqq6+etttuuzRy5Mhq7zv44INz4BABwFRTTZXWW2+99Oeff+bXhg0bljbffPO05ZZbpuHDh6djjz02HXXUUWnIkCHVjnHqqaemPn36pBdeeCG/HmUIQ4cOTZ9//nm66aab8vOffvopbb/99umxxx5LTz31VA4g1l577by9quOOOy6f9+WXX86vb7PNNum7777Lr3366adphRVWyEHPAw88kMu40047pb/++iu/ftVVV6Wjjz46nXDCCen1119PJ554Yi5T1A8AANA44g3xBvA3lACA0vbbb1/aYIMN8s8rrrhiabnllqu89tdff5UmmWSS0nbbbVfZ9vnnn5fif6NPPvlkfv7ggw/m59dee21ln2+//bbUtWvX0nXXXZefb7311qXVVlut2nkPPvjg0rzzzlt53rt379KGG25YbZ/3338/H/uFF14Y6zWMGjWqNOmkk5Zuu+22yrZ435FHHll5/vPPP+dtd911V35++OGHl2aZZZbSH3/8UesxZ5ttttLVV19dbduAAQNKSy+99FjLAgAA/I94Q7wBNB0jNQCgFjGku6xjx45piimmSAsssEBlWwwRD1999VW19y299NKVnyeffPI011xz5YyjEP8uu+yy1faP52+//XYaNWpUZdtiiy1WrzJ++eWXadddd80ZUzEcPIZz//zzz+mjjz6q81ommWSSvF+53LEYYAz/nnDCCcc4fgx/j2HhO++8c+rWrVvlcfzxx1cbLg4AADSMeEO8ATRep7/xXgBos2o2umOu2Krb4nkYPXp0k587AoH6iKHg3377bTrrrLNS796985DuCHJqLvZX27WUy921a9c6jx8BS4j5fZdccslqr0XgBQAANI54Q7wBNJ5ODQBoQjHX7EwzzZR//v7779Nbb72VF70L8e/jjz9ebf94Puecc4610d65c+f8b9XsqvJ7YxG9mLc2fPzxx+mbb75pUHkjqyrmq415eGsGI5EdNt1006X33nsvz4sLAAC0LPEGgE4NAGhS/fv3z0PHo4F+xBFH5MX/Ntxww/zagQcemBZffPE0YMCAtMUWW6Qnn3wynXvuuTlQGJupp546ZzjdfffdaYYZZkgTTTRRHv4dw8CvvPLKPHx8xIgRedHAsWVC1WavvfZK55xzTl5M8PDDD8/HjUBpiSWWyEPZY9G/ffbZJ29fc8010++//56ee+65HEAdcMABf6uuAACAhhFvAKRkTQ0AaEIDBw5M++67b1p00UXTF198kW677bZK5tMiiyySrr/++nTttdem+eefPx199NE5KNlhhx3GesxOnTqls88+O1144YU5k2mDDTbI2y+55JLc2I/jbrfddjkYiICkISIgeuCBB/LQ7xVXXDGXO4Z/l7OodtlllzR48OB02WWX5Tl+Y58hQ4akWWaZpdF1BAAANI54AyClDrFaeEsXAgCK7qGHHkorrbRSbvT37NmzpYsDAAC0IeINgP8xUgMAAAAAACgEnRoAAAAAAEAhmH4KAAAAAAAoBCM1AAAAAACAQtCpAQAAAAAAFIJODQAAAAAAoBB0agAAAAAAAIWgUwMAAAAAACgEnRoAAAAAAEAh6NQAAAAAAAAKQacGAAAAAABQCDo1AAAAAACAVAT/D8VhAtYSWtn2AAAAAElFTkSuQmCC",
=======
      "image/png": "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",
>>>>>>> origin/master
      "text/plain": [
       "<Figure size 1600x600 with 2 Axes>"
      ]
     },
     "metadata": {},
     "output_type": "display_data"
    }
   ],
   "source": [
    "# Analyze the effect of caffeine_consumption\n",
    "feature_importances_original = pd.DataFrame({\n",
    "    'Feature': X.columns,\n",
    "    'Importance': model.feature_importances_\n",
    "}).sort_values(by='Importance', ascending=False)\n",
    "\n",
    "feature_importances_improved = pd.DataFrame({\n",
    "    'Feature': X.columns,\n",
    "    'Importance': model_cv.best_estimator_.feature_importances_\n",
    "}).sort_values(by='Importance', ascending=False)\n",
    "\n",
    "# Create subplots to display both bar plots side by side\n",
    "fig, axes = plt.subplots(1, 2, figsize=(16, 6))\n",
    "\n",
    "# Plot for the original model\n",
    "sns.barplot(x='Importance', y='Feature', data=feature_importances_original, ax=axes[0])\n",
    "axes[0].set_title('Feature Importances (Original)')\n",
    "\n",
    "# Plot for the improved model\n",
    "sns.barplot(x='Importance', y='Feature', data=feature_importances_improved, ax=axes[1])\n",
    "axes[1].set_title('Feature Importances (Improved)')\n",
    "\n",
    "plt.tight_layout()\n",
    "plt.show()"
   ]
  },
  {
   "cell_type": "markdown",
   "metadata": {},
   "source": [
    "### Conclusion for Random Forest (Feature Importances)\n",
    "\n",
    "This plot compares feature importances in a Random Forest model before and after improvements. The most important findings are:\n",
    "\n",
    "1. **Consistent Top Feature: `awakenings`**\n",
    "- In both the original and improved models, `awakenings` remains the most important feature, highlighting its strong predictive power for the target variable.\n",
    "\n",
    "2. **Increased Relevance of `alcohol_consumption`**\n",
    "- In the improved model, `alcohol_consumption` gains more importance and becomes nearly as relevant as `age`.  \n",
    "This suggests that the model now better captures the effect of alcohol use on the outcome.\n",
    "\n",
    "3. **More Even Distribution of Feature Importances**\n",
    "- The improved model shows a more **balanced distribution** of feature importance across the top features (e.g., `age`, `smoking_status_yes`, `exercise_frequency`), indicating better use of available information.\n",
    "\n",
    "4. **Refined Signal from Behavioral Factors**\n",
    "- Features such as `rem_sleep_percentage`, `exercise_frequency`, and `sleep_duration` show slightly higher importance in the improved version, suggesting that the model has become more sensitive to behavioral and lifestyle factors.\n",
    "\n",
    "Summary\n",
    "> The improved Random Forest model maintains `awakenings` as the most critical predictor but better incorporates other features like `alcohol_consumption`, `age`, and behavioral metrics. This indicates a more balanced and potentially more accurate model.\n"
   ]
  },
  {
   "cell_type": "code",
<<<<<<< HEAD
   "execution_count": 5,
=======
   "execution_count": 11,
>>>>>>> origin/master
   "metadata": {},
   "outputs": [
    {
     "name": "stdout",
     "output_type": "stream",
     "text": [
      "MAE: 0.43374074974313953 \n",
      "MSE: 0.31634571868029415 \n",
      "R2: 0.7160566678772724\n"
     ]
    }
   ],
   "source": [
    "# RFECV\n",
    "from sklearn.feature_selection import RFECV\n",
    "\n",
    "rfe = RFECV(estimator=model_cv.best_estimator_, step=1, cv=5, scoring='neg_mean_squared_error')\n",
    "rfe.fit(X_train, y_train)\n",
    "y_pred = rfe.predict(X_test)\n",
    "mae = mean_absolute_error(y_pred=y_pred, y_true=y_test)\n",
    "mse = mean_squared_error(y_pred=y_pred, y_true=y_test)\n",
    "r2 = r2_score(y_pred=y_pred, y_true=y_test)\n",
    "print('MAE:', mae, '\\nMSE:', mse, '\\nR2:', r2)\n"
   ]
  }
 ],
 "metadata": {
  "kernelspec": {
   "display_name": ".venv",
   "language": "python",
   "name": "python3"
  },
  "language_info": {
   "codemirror_mode": {
    "name": "ipython",
    "version": 3
   },
   "file_extension": ".py",
   "mimetype": "text/x-python",
   "name": "python",
   "nbconvert_exporter": "python",
   "pygments_lexer": "ipython3",
   "version": "3.12.3"
  }
 },
 "nbformat": 4,
 "nbformat_minor": 2
}
